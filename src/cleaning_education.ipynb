{
 "cells": [
  {
   "cell_type": "code",
   "execution_count": 1,
   "metadata": {},
   "outputs": [],
   "source": [
    "import pandas as pd\n",
    "import matplotlib.pyplot as plt\n",
    "import numpy as np\n",
    "from scipy.optimize import minimize_scalar"
   ]
  },
  {
   "cell_type": "code",
   "execution_count": 2,
   "metadata": {},
   "outputs": [],
   "source": [
    "size_scale = 0.7\n",
    "FIGSIZE = (14 * size_scale, 8 * size_scale)"
   ]
  },
  {
   "cell_type": "code",
   "execution_count": 3,
   "metadata": {},
   "outputs": [],
   "source": [
    "df_pop = pd.read_csv('..//data//FOLK1A_women.csv', encoding='latin-1', sep=';', header=None)\n",
    "df_pop.columns = ['type', 'sex', 'county', 'age_text', 'number']"
   ]
  },
  {
   "cell_type": "code",
   "execution_count": 4,
   "metadata": {},
   "outputs": [],
   "source": [
    "df_pop['age'] = df_pop['age_text'].apply(lambda x: int(x.split(' ')[0]))"
   ]
  },
  {
   "cell_type": "code",
   "execution_count": 5,
   "metadata": {},
   "outputs": [
    {
     "data": {
      "text/html": [
       "<div>\n",
       "<style scoped>\n",
       "    .dataframe tbody tr th:only-of-type {\n",
       "        vertical-align: middle;\n",
       "    }\n",
       "\n",
       "    .dataframe tbody tr th {\n",
       "        vertical-align: top;\n",
       "    }\n",
       "\n",
       "    .dataframe thead th {\n",
       "        text-align: right;\n",
       "    }\n",
       "</style>\n",
       "<table border=\"1\" class=\"dataframe\">\n",
       "  <thead>\n",
       "    <tr style=\"text-align: right;\">\n",
       "      <th></th>\n",
       "      <th>type</th>\n",
       "      <th>sex</th>\n",
       "      <th>county</th>\n",
       "      <th>age_text</th>\n",
       "      <th>number</th>\n",
       "      <th>age</th>\n",
       "    </tr>\n",
       "  </thead>\n",
       "  <tbody>\n",
       "    <tr>\n",
       "      <th>0</th>\n",
       "      <td>I alt</td>\n",
       "      <td>Kvinder</td>\n",
       "      <td>Hele landet</td>\n",
       "      <td>18 år</td>\n",
       "      <td>33875</td>\n",
       "      <td>18</td>\n",
       "    </tr>\n",
       "    <tr>\n",
       "      <th>1</th>\n",
       "      <td>I alt</td>\n",
       "      <td>Kvinder</td>\n",
       "      <td>Hele landet</td>\n",
       "      <td>19 år</td>\n",
       "      <td>34535</td>\n",
       "      <td>19</td>\n",
       "    </tr>\n",
       "    <tr>\n",
       "      <th>2</th>\n",
       "      <td>I alt</td>\n",
       "      <td>Kvinder</td>\n",
       "      <td>Hele landet</td>\n",
       "      <td>20 år</td>\n",
       "      <td>35563</td>\n",
       "      <td>20</td>\n",
       "    </tr>\n",
       "    <tr>\n",
       "      <th>3</th>\n",
       "      <td>I alt</td>\n",
       "      <td>Kvinder</td>\n",
       "      <td>Hele landet</td>\n",
       "      <td>21 år</td>\n",
       "      <td>36041</td>\n",
       "      <td>21</td>\n",
       "    </tr>\n",
       "    <tr>\n",
       "      <th>4</th>\n",
       "      <td>I alt</td>\n",
       "      <td>Kvinder</td>\n",
       "      <td>Hele landet</td>\n",
       "      <td>22 år</td>\n",
       "      <td>37942</td>\n",
       "      <td>22</td>\n",
       "    </tr>\n",
       "    <tr>\n",
       "      <th>5</th>\n",
       "      <td>I alt</td>\n",
       "      <td>Kvinder</td>\n",
       "      <td>Hele landet</td>\n",
       "      <td>23 år</td>\n",
       "      <td>38467</td>\n",
       "      <td>23</td>\n",
       "    </tr>\n",
       "    <tr>\n",
       "      <th>6</th>\n",
       "      <td>I alt</td>\n",
       "      <td>Kvinder</td>\n",
       "      <td>Hele landet</td>\n",
       "      <td>24 år</td>\n",
       "      <td>40324</td>\n",
       "      <td>24</td>\n",
       "    </tr>\n",
       "    <tr>\n",
       "      <th>7</th>\n",
       "      <td>I alt</td>\n",
       "      <td>Kvinder</td>\n",
       "      <td>Hele landet</td>\n",
       "      <td>25 år</td>\n",
       "      <td>39724</td>\n",
       "      <td>25</td>\n",
       "    </tr>\n",
       "    <tr>\n",
       "      <th>8</th>\n",
       "      <td>I alt</td>\n",
       "      <td>Kvinder</td>\n",
       "      <td>Hele landet</td>\n",
       "      <td>26 år</td>\n",
       "      <td>39731</td>\n",
       "      <td>26</td>\n",
       "    </tr>\n",
       "    <tr>\n",
       "      <th>9</th>\n",
       "      <td>I alt</td>\n",
       "      <td>Kvinder</td>\n",
       "      <td>Hele landet</td>\n",
       "      <td>27 år</td>\n",
       "      <td>38942</td>\n",
       "      <td>27</td>\n",
       "    </tr>\n",
       "    <tr>\n",
       "      <th>10</th>\n",
       "      <td>I alt</td>\n",
       "      <td>Kvinder</td>\n",
       "      <td>Hele landet</td>\n",
       "      <td>28 år</td>\n",
       "      <td>38841</td>\n",
       "      <td>28</td>\n",
       "    </tr>\n",
       "    <tr>\n",
       "      <th>11</th>\n",
       "      <td>I alt</td>\n",
       "      <td>Kvinder</td>\n",
       "      <td>Hele landet</td>\n",
       "      <td>29 år</td>\n",
       "      <td>38003</td>\n",
       "      <td>29</td>\n",
       "    </tr>\n",
       "    <tr>\n",
       "      <th>12</th>\n",
       "      <td>I alt</td>\n",
       "      <td>Kvinder</td>\n",
       "      <td>Hele landet</td>\n",
       "      <td>30 år</td>\n",
       "      <td>36737</td>\n",
       "      <td>30</td>\n",
       "    </tr>\n",
       "  </tbody>\n",
       "</table>\n",
       "</div>"
      ],
      "text/plain": [
       "     type      sex       county age_text  number  age\n",
       "0   I alt  Kvinder  Hele landet    18 år   33875   18\n",
       "1   I alt  Kvinder  Hele landet    19 år   34535   19\n",
       "2   I alt  Kvinder  Hele landet    20 år   35563   20\n",
       "3   I alt  Kvinder  Hele landet    21 år   36041   21\n",
       "4   I alt  Kvinder  Hele landet    22 år   37942   22\n",
       "5   I alt  Kvinder  Hele landet    23 år   38467   23\n",
       "6   I alt  Kvinder  Hele landet    24 år   40324   24\n",
       "7   I alt  Kvinder  Hele landet    25 år   39724   25\n",
       "8   I alt  Kvinder  Hele landet    26 år   39731   26\n",
       "9   I alt  Kvinder  Hele landet    27 år   38942   27\n",
       "10  I alt  Kvinder  Hele landet    28 år   38841   28\n",
       "11  I alt  Kvinder  Hele landet    29 år   38003   29\n",
       "12  I alt  Kvinder  Hele landet    30 år   36737   30"
      ]
     },
     "execution_count": 5,
     "metadata": {},
     "output_type": "execute_result"
    }
   ],
   "source": [
    "df_pop"
   ]
  },
  {
   "cell_type": "code",
   "execution_count": 6,
   "metadata": {},
   "outputs": [],
   "source": [
    "df_educ = pd.read_csv('..//data//UDDAKT10_women.csv', encoding='latin-1', sep=';', header=None)\n",
    "df_educ.columns = ['type', 'sex', 'county', 'age_text', 'number']"
   ]
  },
  {
   "cell_type": "code",
   "execution_count": 7,
   "metadata": {},
   "outputs": [],
   "source": [
    "df_educ['age'] = df_educ['age_text'].apply(lambda x: int(x.split(' ')[0]))"
   ]
  },
  {
   "cell_type": "code",
   "execution_count": 8,
   "metadata": {},
   "outputs": [
    {
     "data": {
      "text/html": [
       "<div>\n",
       "<style scoped>\n",
       "    .dataframe tbody tr th:only-of-type {\n",
       "        vertical-align: middle;\n",
       "    }\n",
       "\n",
       "    .dataframe tbody tr th {\n",
       "        vertical-align: top;\n",
       "    }\n",
       "\n",
       "    .dataframe thead th {\n",
       "        text-align: right;\n",
       "    }\n",
       "</style>\n",
       "<table border=\"1\" class=\"dataframe\">\n",
       "  <thead>\n",
       "    <tr style=\"text-align: right;\">\n",
       "      <th></th>\n",
       "      <th>type</th>\n",
       "      <th>sex</th>\n",
       "      <th>county</th>\n",
       "      <th>age_text</th>\n",
       "      <th>number</th>\n",
       "      <th>age</th>\n",
       "    </tr>\n",
       "  </thead>\n",
       "  <tbody>\n",
       "    <tr>\n",
       "      <th>0</th>\n",
       "      <td>Elever pr. 1. oktober</td>\n",
       "      <td>Kvinder</td>\n",
       "      <td>Hele landet</td>\n",
       "      <td>18 år</td>\n",
       "      <td>27022</td>\n",
       "      <td>18</td>\n",
       "    </tr>\n",
       "    <tr>\n",
       "      <th>1</th>\n",
       "      <td>Elever pr. 1. oktober</td>\n",
       "      <td>Kvinder</td>\n",
       "      <td>Hele landet</td>\n",
       "      <td>19 år</td>\n",
       "      <td>16368</td>\n",
       "      <td>19</td>\n",
       "    </tr>\n",
       "    <tr>\n",
       "      <th>2</th>\n",
       "      <td>Elever pr. 1. oktober</td>\n",
       "      <td>Kvinder</td>\n",
       "      <td>Hele landet</td>\n",
       "      <td>20 år</td>\n",
       "      <td>13426</td>\n",
       "      <td>20</td>\n",
       "    </tr>\n",
       "    <tr>\n",
       "      <th>3</th>\n",
       "      <td>Elever pr. 1. oktober</td>\n",
       "      <td>Kvinder</td>\n",
       "      <td>Hele landet</td>\n",
       "      <td>21 år</td>\n",
       "      <td>19167</td>\n",
       "      <td>21</td>\n",
       "    </tr>\n",
       "    <tr>\n",
       "      <th>4</th>\n",
       "      <td>Elever pr. 1. oktober</td>\n",
       "      <td>Kvinder</td>\n",
       "      <td>Hele landet</td>\n",
       "      <td>22 år</td>\n",
       "      <td>24298</td>\n",
       "      <td>22</td>\n",
       "    </tr>\n",
       "    <tr>\n",
       "      <th>5</th>\n",
       "      <td>Elever pr. 1. oktober</td>\n",
       "      <td>Kvinder</td>\n",
       "      <td>Hele landet</td>\n",
       "      <td>23 år</td>\n",
       "      <td>23609</td>\n",
       "      <td>23</td>\n",
       "    </tr>\n",
       "    <tr>\n",
       "      <th>6</th>\n",
       "      <td>Elever pr. 1. oktober</td>\n",
       "      <td>Kvinder</td>\n",
       "      <td>Hele landet</td>\n",
       "      <td>24 år</td>\n",
       "      <td>21685</td>\n",
       "      <td>24</td>\n",
       "    </tr>\n",
       "    <tr>\n",
       "      <th>7</th>\n",
       "      <td>Elever pr. 1. oktober</td>\n",
       "      <td>Kvinder</td>\n",
       "      <td>Hele landet</td>\n",
       "      <td>25 år</td>\n",
       "      <td>16492</td>\n",
       "      <td>25</td>\n",
       "    </tr>\n",
       "    <tr>\n",
       "      <th>8</th>\n",
       "      <td>Elever pr. 1. oktober</td>\n",
       "      <td>Kvinder</td>\n",
       "      <td>Hele landet</td>\n",
       "      <td>26 år</td>\n",
       "      <td>11891</td>\n",
       "      <td>26</td>\n",
       "    </tr>\n",
       "    <tr>\n",
       "      <th>9</th>\n",
       "      <td>Elever pr. 1. oktober</td>\n",
       "      <td>Kvinder</td>\n",
       "      <td>Hele landet</td>\n",
       "      <td>27 år</td>\n",
       "      <td>8578</td>\n",
       "      <td>27</td>\n",
       "    </tr>\n",
       "    <tr>\n",
       "      <th>10</th>\n",
       "      <td>Elever pr. 1. oktober</td>\n",
       "      <td>Kvinder</td>\n",
       "      <td>Hele landet</td>\n",
       "      <td>28 år</td>\n",
       "      <td>6395</td>\n",
       "      <td>28</td>\n",
       "    </tr>\n",
       "    <tr>\n",
       "      <th>11</th>\n",
       "      <td>Elever pr. 1. oktober</td>\n",
       "      <td>Kvinder</td>\n",
       "      <td>Hele landet</td>\n",
       "      <td>29 år</td>\n",
       "      <td>4938</td>\n",
       "      <td>29</td>\n",
       "    </tr>\n",
       "    <tr>\n",
       "      <th>12</th>\n",
       "      <td>Elever pr. 1. oktober</td>\n",
       "      <td>Kvinder</td>\n",
       "      <td>Hele landet</td>\n",
       "      <td>30 år</td>\n",
       "      <td>4011</td>\n",
       "      <td>30</td>\n",
       "    </tr>\n",
       "  </tbody>\n",
       "</table>\n",
       "</div>"
      ],
      "text/plain": [
       "                     type      sex       county age_text  number  age\n",
       "0   Elever pr. 1. oktober  Kvinder  Hele landet    18 år   27022   18\n",
       "1   Elever pr. 1. oktober  Kvinder  Hele landet    19 år   16368   19\n",
       "2   Elever pr. 1. oktober  Kvinder  Hele landet    20 år   13426   20\n",
       "3   Elever pr. 1. oktober  Kvinder  Hele landet    21 år   19167   21\n",
       "4   Elever pr. 1. oktober  Kvinder  Hele landet    22 år   24298   22\n",
       "5   Elever pr. 1. oktober  Kvinder  Hele landet    23 år   23609   23\n",
       "6   Elever pr. 1. oktober  Kvinder  Hele landet    24 år   21685   24\n",
       "7   Elever pr. 1. oktober  Kvinder  Hele landet    25 år   16492   25\n",
       "8   Elever pr. 1. oktober  Kvinder  Hele landet    26 år   11891   26\n",
       "9   Elever pr. 1. oktober  Kvinder  Hele landet    27 år    8578   27\n",
       "10  Elever pr. 1. oktober  Kvinder  Hele landet    28 år    6395   28\n",
       "11  Elever pr. 1. oktober  Kvinder  Hele landet    29 år    4938   29\n",
       "12  Elever pr. 1. oktober  Kvinder  Hele landet    30 år    4011   30"
      ]
     },
     "execution_count": 8,
     "metadata": {},
     "output_type": "execute_result"
    }
   ],
   "source": [
    "df_educ"
   ]
  },
  {
   "cell_type": "code",
   "execution_count": 9,
   "metadata": {},
   "outputs": [
    {
     "data": {
      "image/png": "[encoded data removed]",
      "text/plain": [
       "<Figure size 705.6x403.2 with 1 Axes>"
      ]
     },
     "metadata": {
      "needs_background": "light"
     },
     "output_type": "display_data"
    }
   ],
   "source": [
    "f, ax = plt.subplots(1,1, figsize=FIGSIZE)\n",
    "\n",
    "ax.plot(df_pop['age'], df_pop['number'], label='total # women')\n",
    "ax.fill_between(df_educ['age'], df_educ['number'], color='green', \\\n",
    "                alpha=0.3, label='# of women doing full time education')\n",
    "\n",
    "ax.set_xlabel('age')\n",
    "ax.set_ylabel('Number of women')\n",
    "ax.set_title(\"Total Number of Women vs. Women Doing Full Time Education\")\n",
    "ax.legend()\n",
    "f.savefig('..//figures//total_women_vs_education.png')"
   ]
  },
  {
   "cell_type": "code",
   "execution_count": null,
   "metadata": {},
   "outputs": [],
   "source": []
  },
  {
   "cell_type": "code",
   "execution_count": 10,
   "metadata": {},
   "outputs": [],
   "source": [
    "from scipy.stats import linregress"
   ]
  },
  {
   "cell_type": "code",
   "execution_count": 11,
   "metadata": {},
   "outputs": [
    {
     "data": {
      "text/plain": [
       "LinregressResult(slope=-0.04680282484570767, intercept=1.53183678448833, rvalue=-0.8448133189043763, pvalue=0.00027825691625536075, stderr=0.008937548404238386)"
      ]
     },
     "execution_count": 11,
     "metadata": {},
     "output_type": "execute_result"
    }
   ],
   "source": [
    "linregress(df_pop['age'], df_educ['number'] / df_pop['number'] )"
   ]
  },
  {
   "cell_type": "code",
   "execution_count": 12,
   "metadata": {},
   "outputs": [
    {
     "data": {
      "image/png": "[encoded data removed]",
      "text/plain": [
       "<Figure size 705.6x403.2 with 1 Axes>"
      ]
     },
     "metadata": {
      "needs_background": "light"
     },
     "output_type": "display_data"
    }
   ],
   "source": [
    "f , ax = plt.subplots(1,1, figsize=FIGSIZE)\n",
    "ax.plot(df_pop['age'], df_educ['number'] / df_pop['number'], label='true probability')\n",
    "ax.plot(np.linspace(18, 30), 1.53 - 0.0468 * np.linspace(18,30), ls='--', label='linear fit')\n",
    "ax.set_xlabel('age')\n",
    "ax.set_ylabel('probability of women doing full time education')\n",
    "ax.set_title(\"Probability of women doing full time education\")\n",
    "ax.legend()\n",
    "\n",
    "f.savefig('..//figures//prop_women_doing_full_time_education.png')\n"
   ]
  },
  {
   "cell_type": "code",
   "execution_count": 13,
   "metadata": {},
   "outputs": [],
   "source": [
    "class EducationSimulator():\n",
    "    \n",
    "    def __init__(self):\n",
    "        self.start_age = 18\n",
    "        self.end_age = 30\n",
    "        self.age_prop = dict()\n",
    "        self.true_prop = np.array(range(31)) * -0.0468 + 1.53\n",
    "        self.N = 5000\n",
    "            \n",
    "    def dropout_prop(self, age):\n",
    "        return self.age_prop[age]\n",
    "    \n",
    "    @staticmethod\n",
    "    def calc_age_prop(prop, true_prop, agents):\n",
    "        #print('prop',prop)\n",
    "        agents_ = list()\n",
    "        for agent in agents:\n",
    "            if agent == 1:\n",
    "                agent = agent - np.random.binomial(1, 1 - prop)\n",
    "            agents_.append(agent)\n",
    "        return (np.mean(agents_) - true_prop)**2\n",
    "    \n",
    "    def solve_for_age(self, age):\n",
    "        agents = list(1 for _ in range(self.N))\n",
    "        np.random.seed(30)\n",
    "        \n",
    "        agents_ = list()\n",
    "        for agent in agents:\n",
    "            agent = agent - np.random.binomial(1, 1 - self.true_prop[age])\n",
    "            agents_.append(agent)\n",
    "            \n",
    "        obj = lambda x: self.calc_age_prop(x, self.true_prop[age+1], agents_)\n",
    "        \n",
    "        res = minimize_scalar(obj,bounds =(0.0 ,1.0), method='bounded')\n",
    "        self.age_prop[age] = res.x\n",
    "        \n",
    "    def solve(self):\n",
    "        for age in range(18, 30):\n",
    "            self.solve_for_age(age)\n",
    "            \n",
    "    def calc_dropout(self, age, educ_frac):\n",
    "        return educ_frac * self.age_prop[age]\n",
    "        "
   ]
  },
  {
   "cell_type": "code",
   "execution_count": 14,
   "metadata": {},
   "outputs": [],
   "source": [
    "es = EducationSimulator()"
   ]
  },
  {
   "cell_type": "code",
   "execution_count": 15,
   "metadata": {},
   "outputs": [],
   "source": [
    "es.solve()"
   ]
  },
  {
   "cell_type": "code",
   "execution_count": 16,
   "metadata": {},
   "outputs": [
    {
     "data": {
      "text/plain": [
       "{18: 0.925953150421135,\n",
       " 19: 0.9381269068436727,\n",
       " 20: 0.9397936635431667,\n",
       " 21: 0.9310792957278888,\n",
       " 22: 0.9262398498511186,\n",
       " 23: 0.8825394357268251,\n",
       " 24: 0.8772451905397338,\n",
       " 25: 0.8527012756128901,\n",
       " 26: 0.8583122798308329,\n",
       " 27: 0.8137356935331768,\n",
       " 28: 0.7558014037444268,\n",
       " 29: 0.748563830778672}"
      ]
     },
     "execution_count": 16,
     "metadata": {},
     "output_type": "execute_result"
    }
   ],
   "source": [
    "es.age_prop"
   ]
  },
  {
   "cell_type": "code",
   "execution_count": 17,
   "metadata": {},
   "outputs": [],
   "source": [
    "x = range(18,30)\n",
    "y_true = list(map(lambda _x: 1.53 - 0.0468 * _x, x))"
   ]
  },
  {
   "cell_type": "code",
   "execution_count": 18,
   "metadata": {},
   "outputs": [
    {
     "data": {
      "text/plain": [
       "[0.6876,\n",
       " 0.6408,\n",
       " 0.594,\n",
       " 0.5472,\n",
       " 0.5004,\n",
       " 0.4536,\n",
       " 0.40680000000000005,\n",
       " 0.3600000000000001,\n",
       " 0.3131999999999999,\n",
       " 0.26639999999999997,\n",
       " 0.21960000000000002,\n",
       " 0.17280000000000006]"
      ]
     },
     "execution_count": 18,
     "metadata": {},
     "output_type": "execute_result"
    }
   ],
   "source": [
    "y_true"
   ]
  },
  {
   "cell_type": "code",
   "execution_count": 19,
   "metadata": {},
   "outputs": [
    {
     "data": {
      "text/plain": [
       "range(18, 30)"
      ]
     },
     "execution_count": 19,
     "metadata": {},
     "output_type": "execute_result"
    }
   ],
   "source": [
    "x"
   ]
  },
  {
   "cell_type": "code",
   "execution_count": 20,
   "metadata": {},
   "outputs": [],
   "source": [
    "\n",
    "y_pred = [y_true[0]]\n",
    "for _x in x[0:-1]:\n",
    "    y_pred.append(es.calc_dropout(_x, y_pred[-1]))"
   ]
  },
  {
   "cell_type": "code",
   "execution_count": 21,
   "metadata": {},
   "outputs": [
    {
     "data": {
      "text/plain": [
       "[0.6876,\n",
       " 0.6366853862295724,\n",
       " 0.5972916920161179,\n",
       " 0.5613309474437242,\n",
       " 0.5226436232161713,\n",
       " 0.48409335109339113,\n",
       " 0.42723147291306923,\n",
       " 0.3747867548601965,\n",
       " 0.31958114395210513,\n",
       " 0.27430042025647694,\n",
       " 0.22320804271384612,\n",
       " 0.16870095201017088]"
      ]
     },
     "execution_count": 21,
     "metadata": {},
     "output_type": "execute_result"
    }
   ],
   "source": [
    "y_pred"
   ]
  },
  {
   "cell_type": "code",
   "execution_count": 22,
   "metadata": {},
   "outputs": [
    {
     "data": {
      "text/plain": [
       "[<matplotlib.lines.Line2D at 0x12331b910>]"
      ]
     },
     "execution_count": 22,
     "metadata": {},
     "output_type": "execute_result"
    },
    {
     "data": {
      "image/png": "[encoded data removed]",
      "text/plain": [
       "<Figure size 432x288 with 1 Axes>"
      ]
     },
     "metadata": {
      "needs_background": "light"
     },
     "output_type": "display_data"
    }
   ],
   "source": [
    "plt.plot(x, y_true)\n",
    "plt.plot(x, y_pred)"
   ]
  },
  {
   "cell_type": "code",
   "execution_count": 23,
   "metadata": {},
   "outputs": [],
   "source": [
    "df_res = pd.DataFrame(y_true, index=x, columns =['y_true'])"
   ]
  },
  {
   "cell_type": "code",
   "execution_count": 24,
   "metadata": {},
   "outputs": [],
   "source": [
    "df_res['dropout_prop'] = list(es.age_prop.values())"
   ]
  },
  {
   "cell_type": "code",
   "execution_count": 25,
   "metadata": {},
   "outputs": [
    {
     "data": {
      "text/html": [
       "<div>\n",
       "<style scoped>\n",
       "    .dataframe tbody tr th:only-of-type {\n",
       "        vertical-align: middle;\n",
       "    }\n",
       "\n",
       "    .dataframe tbody tr th {\n",
       "        vertical-align: top;\n",
       "    }\n",
       "\n",
       "    .dataframe thead th {\n",
       "        text-align: right;\n",
       "    }\n",
       "</style>\n",
       "<table border=\"1\" class=\"dataframe\">\n",
       "  <thead>\n",
       "    <tr style=\"text-align: right;\">\n",
       "      <th></th>\n",
       "      <th>y_true</th>\n",
       "      <th>dropout_prop</th>\n",
       "    </tr>\n",
       "  </thead>\n",
       "  <tbody>\n",
       "    <tr>\n",
       "      <th>18</th>\n",
       "      <td>0.6876</td>\n",
       "      <td>0.925953</td>\n",
       "    </tr>\n",
       "    <tr>\n",
       "      <th>19</th>\n",
       "      <td>0.6408</td>\n",
       "      <td>0.938127</td>\n",
       "    </tr>\n",
       "    <tr>\n",
       "      <th>20</th>\n",
       "      <td>0.5940</td>\n",
       "      <td>0.939794</td>\n",
       "    </tr>\n",
       "    <tr>\n",
       "      <th>21</th>\n",
       "      <td>0.5472</td>\n",
       "      <td>0.931079</td>\n",
       "    </tr>\n",
       "    <tr>\n",
       "      <th>22</th>\n",
       "      <td>0.5004</td>\n",
       "      <td>0.926240</td>\n",
       "    </tr>\n",
       "    <tr>\n",
       "      <th>23</th>\n",
       "      <td>0.4536</td>\n",
       "      <td>0.882539</td>\n",
       "    </tr>\n",
       "    <tr>\n",
       "      <th>24</th>\n",
       "      <td>0.4068</td>\n",
       "      <td>0.877245</td>\n",
       "    </tr>\n",
       "    <tr>\n",
       "      <th>25</th>\n",
       "      <td>0.3600</td>\n",
       "      <td>0.852701</td>\n",
       "    </tr>\n",
       "    <tr>\n",
       "      <th>26</th>\n",
       "      <td>0.3132</td>\n",
       "      <td>0.858312</td>\n",
       "    </tr>\n",
       "    <tr>\n",
       "      <th>27</th>\n",
       "      <td>0.2664</td>\n",
       "      <td>0.813736</td>\n",
       "    </tr>\n",
       "    <tr>\n",
       "      <th>28</th>\n",
       "      <td>0.2196</td>\n",
       "      <td>0.755801</td>\n",
       "    </tr>\n",
       "    <tr>\n",
       "      <th>29</th>\n",
       "      <td>0.1728</td>\n",
       "      <td>0.748564</td>\n",
       "    </tr>\n",
       "  </tbody>\n",
       "</table>\n",
       "</div>"
      ],
      "text/plain": [
       "    y_true  dropout_prop\n",
       "18  0.6876      0.925953\n",
       "19  0.6408      0.938127\n",
       "20  0.5940      0.939794\n",
       "21  0.5472      0.931079\n",
       "22  0.5004      0.926240\n",
       "23  0.4536      0.882539\n",
       "24  0.4068      0.877245\n",
       "25  0.3600      0.852701\n",
       "26  0.3132      0.858312\n",
       "27  0.2664      0.813736\n",
       "28  0.2196      0.755801\n",
       "29  0.1728      0.748564"
      ]
     },
     "execution_count": 25,
     "metadata": {},
     "output_type": "execute_result"
    }
   ],
   "source": [
    "df_res"
   ]
  },
  {
   "cell_type": "code",
   "execution_count": 26,
   "metadata": {},
   "outputs": [
    {
     "data": {
      "text/plain": [
       "18    0.636685\n",
       "19    0.601152\n",
       "20    0.558237\n",
       "21    0.509487\n",
       "22    0.463490\n",
       "23    0.400320\n",
       "24    0.356863\n",
       "25    0.306972\n",
       "26    0.268823\n",
       "27    0.216779\n",
       "28    0.165974\n",
       "29    0.129352\n",
       "dtype: float64"
      ]
     },
     "execution_count": 26,
     "metadata": {},
     "output_type": "execute_result"
    }
   ],
   "source": [
    "df_res['y_true'] * df_res['dropout_prop']"
   ]
  },
  {
   "cell_type": "code",
   "execution_count": 27,
   "metadata": {},
   "outputs": [],
   "source": [
    "df_res.to_pickle('..//data//dropout_prop.pkl')"
   ]
  },
  {
   "cell_type": "code",
   "execution_count": null,
   "metadata": {},
   "outputs": [],
   "source": []
  }
 ],
 "metadata": {
  "kernelspec": {
   "display_name": "Python 3 (master thesis)",
   "language": "python",
   "name": "masterthesis"
  },
  "language_info": {
   "codemirror_mode": {
    "name": "ipython",
    "version": 3
   },
   "file_extension": ".py",
   "mimetype": "text/x-python",
   "name": "python",
   "nbconvert_exporter": "python",
   "pygments_lexer": "ipython3",
   "version": "3.7.5"
  }
 },
 "nbformat": 4,
 "nbformat_minor": 4
}
