{
 "cells": [
  {
   "cell_type": "code",
   "execution_count": 1,
   "metadata": {},
   "outputs": [],
   "source": [
    "# handling colab problem\n",
    "import os\n",
    "if not 'data' in os.listdir('..'):\n",
    "    print('needs data folder. imports through git')\n",
    "    !git clone https://github.com/JakartaLaw/speciale.git\n",
    "    print(os.listdir())\n",
    "    os.chdir('speciale//src')"
   ]
  },
  {
   "cell_type": "code",
   "execution_count": 2,
   "metadata": {},
   "outputs": [],
   "source": [
    "from environments import EnvironmentModel1 as Environment\n",
    "from environments import translate_action_model1 as translate_action\n",
    "from environments import reward_scaler_model1 as reward_scaler\n",
    "from environments import STATES_MU1, STATES_SIGMA1\n",
    "from environments.model1 import scale_states"
   ]
  },
  {
   "cell_type": "code",
   "execution_count": 3,
   "metadata": {},
   "outputs": [],
   "source": [
    "from agents import DQIterationAgent as Agent"
   ]
  },
  {
   "cell_type": "code",
   "execution_count": 12,
   "metadata": {},
   "outputs": [],
   "source": [
    "import pandas as pd\n",
    "import matplotlib.pyplot as plt\n",
    "import numpy as np"
   ]
  },
  {
   "cell_type": "code",
   "execution_count": 13,
   "metadata": {},
   "outputs": [],
   "source": [
    "class StateSpaceSampler():\n",
    "    \n",
    "    def __init__(self):\n",
    "    \n",
    "        self.Q_min = 60\n",
    "        self.Q_max = 60\n",
    "        \n",
    "        self.K_min = 0\n",
    "        self.K_max = 5\n",
    "        \n",
    "        self.G_min = 0.0\n",
    "        self.G_max = 5.0\n",
    "        \n",
    "        self.Z_min = -200.0\n",
    "        self.Z_max = 200.0\n",
    "        \n",
    "        self.beta_K_min = 0.2\n",
    "        self.beta_K_max = 6.0\n",
    "        \n",
    "        self.beta_L_min = 0.2\n",
    "        self.beta_L_max = 6.0\n",
    "        \n",
    "    def draw_state(self):\n",
    "        Q = np.random.randint(self.Q_min, self.Q_max + 1)\n",
    "        K = np.random.randint(self.K_min, self.K_max + 1)\n",
    "        G = np.random.uniform(self.G_min, self.G_max)\n",
    "        Z = np.random.uniform(self.Z_min, self.Z_max)\n",
    "        \n",
    "        beta_K = np.random.uniform(self.beta_K_min, self.beta_K_max)\n",
    "        beta_L = np.random.uniform(self.beta_L_min, self.beta_L_max)\n",
    "        \n",
    "        return (Q, G, K, Z, beta_L)\n",
    "        \n",
    "    def expand_pos_states(self):\n",
    "        \"\"\"creates to expand possible states\"\"\"\n",
    "        self.Q_min = self.Q_min - 1\n",
    "        self.Q_max = self.Q_max - 1"
   ]
  },
  {
   "cell_type": "code",
   "execution_count": 14,
   "metadata": {},
   "outputs": [],
   "source": [
    "def transform_state(states):\n",
    "    \"\"\"helper for turning states in to parameters\"\"\"\n",
    "    states_ = states[0:4]\n",
    "    parameters = {\n",
    "        'beta_L': states[4]\n",
    "    }\n",
    "    return states_, parameters"
   ]
  },
  {
   "cell_type": "code",
   "execution_count": 15,
   "metadata": {},
   "outputs": [],
   "source": [
    "parameters = {\n",
    "    'beta_L' : 1,\n",
    "    'sigma_epsilon' : 0.1, \n",
    "    'S_min': 120.0,\n",
    "    'alpha': 4.609,\n",
    "    'eta_G': 0.164,\n",
    "    'eta_G_sq' : 0.015,\n",
    "    'delta': 0.209,\n",
    "    'sigma_epsilon': 15.11,\n",
    "    'omega': 3.5,\n",
    "}"
   ]
  },
  {
   "cell_type": "code",
   "execution_count": 16,
   "metadata": {},
   "outputs": [],
   "source": [
    "env = Environment(**parameters)"
   ]
  },
  {
   "cell_type": "code",
   "execution_count": 30,
   "metadata": {},
   "outputs": [],
   "source": [
    "agent = Agent(0.005, 0.99 ,16, 8, 5, 4, STATES_MU1, STATES_SIGMA1)\n",
    "agent.load_model(\"models//dqfi_model\")\n",
    "sss = StateSpaceSampler()\n",
    "ACTIONS = np.array([0, 25, 37, 45])"
   ]
  },
  {
   "cell_type": "code",
   "execution_count": 61,
   "metadata": {},
   "outputs": [
    {
     "name": "stdout",
     "output_type": "stream",
     "text": [
      "\n",
      "\n",
      "age: 60\n",
      "-0.11558552919969085\n",
      "0.3554924202039776\n",
      "-0.04416449276855161\n",
      "0.017499683421936158\n",
      "0.15355522317219084\n",
      "rebuilding network\n",
      "# epochs: 67, loss: 0.0099, val loss: 0.00996, scaled val loss: 0.00119\n",
      "\n",
      "\n",
      "age: 59\n",
      "q_scaler sigma: 0.12, q_scaler mu: 0.049\n",
      "0.8273914712529944\n",
      "0.13049585655169932\n",
      "0.18239541307465146\n",
      "0.2772929842524784\n",
      "-0.07955735633410418\n",
      "rebuilding network\n",
      "# epochs: 111, loss: 0.101, val loss: 0.116, scaled val loss: 0.0212\n",
      "\n",
      "\n",
      "age: 58\n",
      "q_scaler sigma: 0.18, q_scaler mu: 0.13\n",
      "1.0411967190385998\n",
      "0.021006272135844384\n",
      "-0.06907832592401064\n",
      "1.2017521611101312\n",
      "1.0131173627452814\n",
      "rebuilding network\n",
      "# epochs: 89, loss: 0.0313, val loss: 0.0367, scaled val loss: 0.00889\n",
      "\n",
      "\n",
      "age: 57\n",
      "q_scaler sigma: 0.24, q_scaler mu: 0.2\n",
      "1.2499539233098886\n",
      "0.5016441395883101\n",
      "0.19869220055062797\n",
      "0.14723584412406865\n",
      "0.1629447367152134\n",
      "rebuilding network\n",
      "# epochs: 46, loss: 0.0275, val loss: 0.0333, scaled val loss: 0.0104\n",
      "\n",
      "\n",
      "age: 56\n",
      "q_scaler sigma: 0.31, q_scaler mu: 0.27\n",
      "0.5633154092405471\n",
      "1.4807009910073272\n",
      "1.996294264270342\n",
      "0.20799316393122425\n",
      "0.8673689895218004\n",
      "rebuilding network\n",
      "# epochs: 63, loss: 0.0199, val loss: 0.019, scaled val loss: 0.00743\n"
     ]
    }
   ],
   "source": [
    "rewards_all = list()\n",
    "while sss.Q_min > 18:\n",
    "    print(\"\\n\")\n",
    "    print(f\"age: {sss.Q_min}\")\n",
    "    try:\n",
    "        print(f\"q_scaler sigma: {float(agent.q_scaler.sigma):.2}, q_scaler mu: {float(agent.q_scaler.mu):.2}\")\n",
    "    except:\n",
    "        pass\n",
    "\n",
    "    for i in range(500):\n",
    "\n",
    "        # ugly\n",
    "        _states_ = sss.draw_state()\n",
    "        _states, _params = transform_state(_states_)\n",
    "        #scaled_state = scale_states(*_states_)\n",
    "\n",
    "\n",
    "        # ugly\n",
    "        rewards = np.zeros(shape=4)\n",
    "        new_states = np.zeros(shape=(4, 5)) \n",
    "        for ix, action in enumerate(ACTIONS):\n",
    "            env.reset(_states, _params)\n",
    "\n",
    "            new_state, reward, done, _info = env.step(action)\n",
    "            scaled_reward = reward_scaler(reward, env.beta_L)\n",
    "            rewards[ix] = scaled_reward\n",
    "            #rewards[ix] = reward\n",
    "            new_states[ix] = new_state\n",
    "        \n",
    "        rewards_all.append(np.argmax(rewards))\n",
    "        q_vals = agent.predict_q_vals(new_states, rewards, done)\n",
    "        \n",
    "        if i < 5:\n",
    "            print(q_vals[0][0])\n",
    "            \n",
    "        agent.remember(_states_, q_vals)\n",
    "\n",
    "    agent.learn()\n",
    "    sss.expand_pos_states()"
   ]
  },
  {
   "cell_type": "code",
   "execution_count": 69,
   "metadata": {},
   "outputs": [
    {
     "name": "stdout",
     "output_type": "stream",
     "text": [
      "{'mu': 0.3630390895127811, 'sigma': 0.39043367483622143}\n"
     ]
    }
   ],
   "source": [
    "#agent.save_model()"
   ]
  },
  {
   "cell_type": "code",
   "execution_count": 40,
   "metadata": {},
   "outputs": [],
   "source": [
    "agent.load_model(\"models//dqfi_model\")"
   ]
  },
  {
   "cell_type": "code",
   "execution_count": null,
   "metadata": {},
   "outputs": [],
   "source": [
    "parameters = {\n",
    "    'beta_L' : 2,\n",
    "    'sigma_epsilon' : 0.1, \n",
    "    'S_min': 120.0,\n",
    "    'alpha': 4.609,\n",
    "    'eta_G': 0.164,\n",
    "    'eta_G_sq' : 0.015,\n",
    "    'delta': 0.209,\n",
    "    'sigma_epsilon': 15.11,\n",
    "    'omega': 3.5,\n",
    "}\n",
    "\n",
    "env = Environment(**parameters)\n",
    "\n",
    "EPISODES = 500"
   ]
  },
  {
   "cell_type": "code",
   "execution_count": 32,
   "metadata": {},
   "outputs": [],
   "source": [
    "rewards_history, action_history = list(), list()\n",
    "agent.epsilon=0.0\n",
    "agent.q_scaler.mu = 0.068\n",
    "agent.q_scaler.sigma = 0.16\n",
    "\n",
    "\n",
    "for e in range(EPISODES):\n",
    "    env.reset()\n",
    "    state = env.states\n",
    "    for time in range(18, 500):\n",
    "        action, q_vals = agent.act(state)\n",
    "        _action = translate_action(action)\n",
    "        next_state, reward, done, _ = env.step(_action)\n",
    "        scaled_reward = (reward - 24 ) / 5\n",
    "\n",
    "        \n",
    "        rewards_history.append([reward, e, time])\n",
    "        action_history.append([_action, e, time])\n",
    "        \n",
    "        state = next_state\n",
    "        if done:\n",
    "            #print(\"episode: {}/{}, score: {}, e: {:.2}\".format(e, EPISODES, np.mean(rewards_history), agent.epsilon))\n",
    "            break\n",
    "\n",
    "df_DQAgent = pd.DataFrame(rewards_history, columns=['rewards', 'episode', 'Q'])\n",
    "df_DQAgent_action = pd.DataFrame(action_history, columns=['actions', 'episode', 'Q'])"
   ]
  },
  {
   "cell_type": "code",
   "execution_count": 33,
   "metadata": {},
   "outputs": [],
   "source": [
    "def random_action():\n",
    "    act = np.random.randint(0, 4)\n",
    "    return [0, 25, 37, 45][act]\n"
   ]
  },
  {
   "cell_type": "code",
   "execution_count": 34,
   "metadata": {},
   "outputs": [],
   "source": [
    "rewards_history, action_history = list(), list()\n",
    "for e in range(EPISODES):\n",
    "    env.reset()\n",
    "    state = env.states\n",
    "    for time in range(18, 500):\n",
    "        _action = random_action()\n",
    "        next_state, reward, done, _ = env.step(_action)\n",
    "\n",
    "        \n",
    "        rewards_history.append([reward, e, time])\n",
    "        action_history.append([_action, e, time])\n",
    "        \n",
    "        state = next_state\n",
    "        if done:\n",
    "            break\n",
    "            \n",
    "df_random_agent = pd.DataFrame(rewards_history, columns=['rewards', 'episode', 'Q'])"
   ]
  },
  {
   "cell_type": "code",
   "execution_count": 35,
   "metadata": {},
   "outputs": [],
   "source": [
    "rewards_history, action_history = list(), list()\n",
    "for e in range(EPISODES):\n",
    "    env.reset()\n",
    "    state = env.states\n",
    "    for time in range(18, 500):\n",
    "        _action = 0\n",
    "        next_state, reward, done, _ = env.step(_action)\n",
    "\n",
    "        \n",
    "        rewards_history.append([reward, e, time])\n",
    "        action_history.append([_action, e, time])\n",
    "        \n",
    "        state = next_state\n",
    "        if done:\n",
    "            break\n",
    "\n",
    "df_0_agent = pd.DataFrame(rewards_history, columns=['rewards', 'episode', 'Q'])"
   ]
  },
  {
   "cell_type": "code",
   "execution_count": 36,
   "metadata": {},
   "outputs": [],
   "source": [
    "rewards_history, action_history = list(), list()\n",
    "for e in range(EPISODES):\n",
    "    env.reset()\n",
    "    state = env.states\n",
    "    for time in range(18, 500):\n",
    "        _action = 37\n",
    "        next_state, reward, done, _ = env.step(_action)\n",
    "\n",
    "        \n",
    "        rewards_history.append([reward, e, time])\n",
    "        action_history.append([_action, e, time])\n",
    "        \n",
    "        state = next_state\n",
    "        if done:\n",
    "            break\n",
    "\n",
    "df_37_agent = pd.DataFrame(rewards_history, columns=['rewards', 'episode', 'Q'])"
   ]
  },
  {
   "cell_type": "code",
   "execution_count": 37,
   "metadata": {},
   "outputs": [],
   "source": [
    "rewards_history, action_history = list(), list()\n",
    "for e in range(EPISODES):\n",
    "    env.reset()\n",
    "    state = env.states\n",
    "    for time in range(18, 500):\n",
    "        _action = 45\n",
    "        next_state, reward, done, _ = env.step(_action)\n",
    "\n",
    "        \n",
    "        rewards_history.append([reward, e, time])\n",
    "        action_history.append([_action, e, time])\n",
    "        \n",
    "        state = next_state\n",
    "        if done:\n",
    "            break\n",
    "\n",
    "df_45_agent = pd.DataFrame(rewards_history, columns=['rewards', 'episode', 'Q'])"
   ]
  },
  {
   "cell_type": "code",
   "execution_count": 38,
   "metadata": {},
   "outputs": [
    {
     "data": {
      "text/plain": [
       "<matplotlib.legend.Legend at 0x14024f410>"
      ]
     },
     "execution_count": 38,
     "metadata": {},
     "output_type": "execute_result"
    },
    {
     "data": {
      "image/png": "[encoded data removed]",
      "text/plain": [
       "<Figure size 432x288 with 1 Axes>"
      ]
     },
     "metadata": {
      "needs_background": "light"
     },
     "output_type": "display_data"
    }
   ],
   "source": [
    "\n",
    "plt.plot(df_DQAgent.drop('episode', axis=1).groupby('Q').mean(), label='DQ Agent')\n",
    "plt.plot(df_37_agent.drop('episode', axis=1).groupby('Q').mean(), label='37 hour Agent')\n",
    "plt.plot(df_45_agent.drop('episode', axis=1).groupby('Q').mean(), label='45 hour Agent')\n",
    "plt.plot(df_0_agent.drop('episode', axis=1).groupby('Q').mean(), label='0 hour Agent')\n",
    "plt.plot(df_random_agent.drop('episode', axis=1).groupby('Q').mean(), label='random Agent')\n",
    "\n",
    "\n",
    "plt.legend()"
   ]
  },
  {
   "cell_type": "code",
   "execution_count": 39,
   "metadata": {},
   "outputs": [
    {
     "data": {
      "text/plain": [
       "<matplotlib.collections.PolyCollection at 0x13fbdbd50>"
      ]
     },
     "execution_count": 39,
     "metadata": {},
     "output_type": "execute_result"
    },
    {
     "data": {
      "image/png": "[encoded data removed]",
      "text/plain": [
       "<Figure size 432x288 with 1 Axes>"
      ]
     },
     "metadata": {
      "needs_background": "light"
     },
     "output_type": "display_data"
    }
   ],
   "source": [
    "upper_bound = df_DQAgent_action.drop('episode', axis=1).groupby('Q').mean() \\\n",
    "              + df_DQAgent_action.drop('episode', axis=1).groupby('Q').std()\n",
    "lower_bound = df_DQAgent_action.drop('episode', axis=1).groupby('Q').mean() \\\n",
    "              - df_DQAgent_action.drop('episode', axis=1).groupby('Q').std()\n",
    "\n",
    "plt.plot(df_DQAgent_action.drop('episode', axis=1).groupby('Q').mean())\n",
    "plt.fill_between(range(18,61), upper_bound['actions'], lower_bound['actions'], alpha=0.3)\n"
   ]
  },
  {
   "cell_type": "code",
   "execution_count": 43,
   "metadata": {},
   "outputs": [
    {
     "data": {
      "text/plain": [
       "<matplotlib.legend.Legend at 0x10ec9a950>"
      ]
     },
     "execution_count": 43,
     "metadata": {},
     "output_type": "execute_result"
    },
    {
     "data": {
      "image/png": "[encoded data removed]",
      "text/plain": [
       "<Figure size 432x288 with 1 Axes>"
      ]
     },
     "metadata": {
      "needs_background": "light"
     },
     "output_type": "display_data"
    }
   ],
   "source": [
    "compare_df = df_45_agent\n",
    "\n",
    "\n",
    "plt.plot(df_DQAgent.drop('episode', axis=1).groupby('Q').mean(), label='DQ Agent')\n",
    "upper_bound = df_DQAgent.drop('episode', axis=1).groupby('Q').mean() + df_DQAgent.drop('episode', axis=1).groupby('Q').std()\n",
    "lower_bound = df_DQAgent.drop('episode', axis=1).groupby('Q').mean() - df_DQAgent.drop('episode', axis=1).groupby('Q').std()\n",
    "plt.fill_between(range(18,61), upper_bound['rewards'], lower_bound[\"rewards\"], alpha=0.3, label='DQ agent')\n",
    "\n",
    "\n",
    "plt.plot(compare_df.drop('episode', axis=1).groupby('Q').mean(), label='benchmark')\n",
    "upper_bound = compare_df.drop('episode', axis=1).groupby('Q').mean() + compare_df.drop('episode', axis=1).groupby('Q').std()\n",
    "lower_bound = compare_df.drop('episode', axis=1).groupby('Q').mean() - compare_df.drop('episode', axis=1).groupby('Q').std()\n",
    "plt.fill_between(range(18,61), upper_bound['rewards'], lower_bound[\"rewards\"], alpha=0.3, label='benchmark')\n",
    "\n",
    "plt.legend()"
   ]
  },
  {
   "cell_type": "code",
   "execution_count": null,
   "metadata": {},
   "outputs": [],
   "source": []
  }
 ],
 "metadata": {
  "kernelspec": {
   "display_name": "Python 3 (master thesis)",
   "language": "python",
   "name": "masterthesis"
  },
  "language_info": {
   "codemirror_mode": {
    "name": "ipython",
    "version": 3
   },
   "file_extension": ".py",
   "mimetype": "text/x-python",
   "name": "python",
   "nbconvert_exporter": "python",
   "pygments_lexer": "ipython3",
   "version": "3.7.5"
  }
 },
 "nbformat": 4,
 "nbformat_minor": 2
}
