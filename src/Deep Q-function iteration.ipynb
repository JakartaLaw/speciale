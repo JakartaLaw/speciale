{
 "cells": [
  {
   "cell_type": "code",
   "execution_count": 63,
   "metadata": {},
   "outputs": [],
   "source": [
    "# handling colab problem\n",
    "import os\n",
    "if not 'data' in os.listdir('..'):\n",
    "    print('needs data folder. imports through git')\n",
    "    !git clone https://github.com/JakartaLaw/speciale.git\n",
    "    print(os.listdir())\n",
    "    os.chdir('speciale//src')"
   ]
  },
  {
   "cell_type": "code",
   "execution_count": 64,
   "metadata": {},
   "outputs": [],
   "source": [
    "from environments import EnvironmentModel1 as Environment\n",
    "from environments import translate_action_model1 as translate_action\n",
    "from environments import reward_scaler_model1 as reward_scaler\n",
    "from environments import STATES_MU1, STATES_SIGMA1\n",
    "from environments.model1 import scale_states"
   ]
  },
  {
   "cell_type": "code",
   "execution_count": 65,
   "metadata": {},
   "outputs": [],
   "source": [
    "import pandas as pd\n",
    "import matplotlib.pyplot as plt\n"
   ]
  },
  {
   "cell_type": "code",
   "execution_count": 66,
   "metadata": {},
   "outputs": [],
   "source": [
    "from tensorflow.keras.models import Sequential, load_model\n",
    "from tensorflow.keras.layers import Dense\n",
    "from tensorflow.keras.optimizers import Adam\n",
    "from tensorflow.keras.callbacks import EarlyStopping\n",
    "import numpy as np\n",
    "import pickle\n",
    "\n",
    "class MemoryBuffer():\n",
    "    \n",
    "    def __init__(self, action_size, state_size, mem_size=1500000, batch_size=50000):\n",
    "        self.mem_size = mem_size\n",
    "        self.mem_cntr = 0\n",
    "        self.batch_size = batch_size\n",
    "        self.action_size = action_size\n",
    "        self.state_size =state_size\n",
    "        \n",
    "        \n",
    "        self.state_memory = np.zeros((self.mem_size, state_size))\n",
    "        self.q_memory = np.zeros((self.mem_size, action_size))\n",
    "        \n",
    "    def store_transition(self, state, q_values):\n",
    "        index = self.mem_cntr % self.mem_size\n",
    "        \n",
    "        self.state_memory[index] = state\n",
    "        self.q_memory[index] = q_values\n",
    "        \n",
    "        self.mem_cntr += 1\n",
    "        \n",
    "    def sample_batch(self):\n",
    "        max_mem = min(self.mem_cntr, self.mem_size)\n",
    "        _batch_size = min(self.mem_cntr, self.batch_size)\n",
    "        batch = np.random.choice(max_mem, _batch_size)\n",
    "\n",
    "        states = self.state_memory[batch]\n",
    "        q_values = self.q_memory[batch]\n",
    "        \n",
    "        return states, q_values\n",
    "\n",
    "    \n",
    "class ArrayScaler():\n",
    "    \n",
    "    def __init__(self, as_scalar=False):\n",
    "        \n",
    "        \"\"\"as_scalar=True implies that each row is scaled the same way\"\"\"\n",
    "        self.as_scalar = as_scalar\n",
    "        self.mu = None\n",
    "        self.sigma = None\n",
    "    \n",
    "    def fit(self, array):\n",
    "        \n",
    "        if self.as_scalar is False:\n",
    "            self.mu = self.calc_means(array)\n",
    "            self.sigma = self.calc_stds(array)\n",
    "        else:\n",
    "            self.mu = np.mean(array)\n",
    "            self.sigma = np.std(array)\n",
    "    \n",
    "    def transform(self, array):\n",
    "        return (array - self.mu) / self.sigma\n",
    "    \n",
    "    def inverse_transform(self, array):\n",
    "        return (array * self.sigma ) + self.mu\n",
    "\n",
    "    @staticmethod\n",
    "    def calc_means(array):\n",
    "        return np.mean(array, axis=0)\n",
    "    \n",
    "    @staticmethod\n",
    "    def calc_stds(array):\n",
    "        states_std_ = np.std(array, axis=0)\n",
    "        \n",
    "        for ix, val in enumerate(states_std_):\n",
    "            if val == 0.0:\n",
    "                states_std_[ix] = 1.0\n",
    "\n",
    "        return states_std_\n",
    "    \n",
    "class QFunctionScaler():\n",
    "\n",
    "    def __init__(self):\n",
    "        self.q_mean = None\n",
    "        self.q_std = None\n",
    "\n",
    "    def fit(self, q_vals):\n",
    "        self.q_mean = np.mean(q_vals, axis=0)\n",
    "        self.q_std = np.std(q_vals, axis=0)\n",
    "\n",
    "    def transform(self, q_vals):\n",
    "        q_vals_ = (q_vals - self.q_mean ) /self.q_std\n",
    "        return q_vals_\n",
    "\n",
    "    def inverse_transform(self, q_vals):\n",
    "        q_vals_ = (q_vals * self.q_std ) + self.q_mean\n",
    "        return q_vals_\n",
    "\n",
    "def build_network(input_dims, output_dims, fc1_size, fc2_size, lr):\n",
    "    model = Sequential()\n",
    "    model.add(Dense(fc1_size, activation='relu', input_dim=input_dims))\n",
    "    model.add(Dense(fc2_size, activation='relu'))\n",
    "    model.add(Dense(output_dims, activation='linear'))\n",
    "    model.compile(loss='mse', optimizer=Adam(lr=lr))\n",
    "    return model\n",
    "\n",
    "class Agent():\n",
    "\n",
    "    def __init__(self, alpha, gamma, layer1_size, layer2_size, statespace_dims, action_dims):\n",
    "        self.lr = alpha\n",
    "        self.gamma = gamma\n",
    "        self.fc1_size = layer1_size\n",
    "        self.fc2_size = layer2_size\n",
    "        self.statespace_dims = statespace_dims\n",
    "        self.action_dims = action_dims\n",
    "        self.q_network = build_network(self.statespace_dims, self.action_dims, \n",
    "                                       self.fc1_size, self.fc2_size, self.lr) \n",
    "        \n",
    "        self.memory_buffer = MemoryBuffer(action_dims, statespace_dims)\n",
    "        self.q_scaler = ArrayScaler(as_scalar=True)\n",
    "        self.state_scaler = ArrayScaler()\n",
    "        self.state_scaler.mu = STATES_MU1\n",
    "        self.state_scaler.sigma = STATES_SIGMA1\n",
    "        \n",
    "    def save_model(self, name='dqfi_model'):\n",
    "\n",
    "        self.q_network.save(name + \".h5\",save_format='h5')\n",
    "        q_scaler_params = {'mu': self.q_scaler.mu, 'sigma': self.q_scaler.sigma}\n",
    "        print(q_scaler_params)\n",
    "        with open(name + '.q_scaler.pkl', 'wb') as f:\n",
    "            pickle.dump(q_scaler_params, f)\n",
    "    \n",
    "    def load_model(self, name='dqfi_model'):\n",
    "        self.q_network = load_model(name + '.h5', )\n",
    "        with open(name + '.q_scaler.pkl', 'rb') as f:\n",
    "            q_scaler_params = pickle.load(f)\n",
    "            \n",
    "        self.q_scaler.mu = q_scaler_params['mu']\n",
    "        self.q_scaler.mu = q_scaler_params['sigma']\n",
    "        \n",
    "    def sample(self):\n",
    "        states, q_vals = self.memory_buffer.sample_batch()\n",
    "        self.q_scaler.fit(q_vals)\n",
    "        q_vals, states = self.q_scaler.transform(q_vals), self.state_scaler.transform(states)\n",
    "        return states, q_vals\n",
    "    \n",
    "    def learn(self, verbose=True, rebuild_network=True):\n",
    "\n",
    "        states, q_vals = self.sample()\n",
    "        \n",
    "        if rebuild_network:\n",
    "            print('rebuilding network')\n",
    "            self.q_network = build_network(self.statespace_dims, self.action_dims, \n",
    "                                       self.fc1_size, self.fc2_size, self.lr)\n",
    "        \n",
    "        history_ = self.q_network.fit(states, q_vals, epochs=150, validation_split=0.3, \n",
    "                                    callbacks=[EarlyStopping(patience=5)], verbose=0)\n",
    "        \n",
    "        \n",
    "        n_epochs = history_.epoch[-1] \n",
    "        loss_, val_loss_ = history_.history['loss'][-1], history_.history['val_loss'][-1]\n",
    "        scaled_val_loss_ = np.float(np.mean(self.q_scaler.sigma) * val_loss_)\n",
    "        \n",
    "        if verbose:\n",
    "            print(f'# epochs: {n_epochs}, loss: {loss_:.3}, val loss: {val_loss_:.3}, scaled val loss: {scaled_val_loss_:.3}')\n",
    "            \n",
    "    def remember(self, state, q_values):\n",
    "        self.memory_buffer.store_transition(state, q_values)\n",
    "        \n",
    "    def act(self, state):\n",
    "        state = self.state_scaler.transform(state)\n",
    "        state = state[np.newaxis, :]\n",
    "        q_values = self.q_network.predict(state)\n",
    "        action, q_value = np.argmax(q_values), self.q_scaler.inverse_transform(q_values)\n",
    "        return action, q_value\n",
    "        \n",
    "    def predict_q_vals(self, new_states, rewards, done):\n",
    "        rewards = rewards[np.newaxis, :]\n",
    "        new_states = self.state_scaler.transform(new_states)\n",
    "  \n",
    "        if done:\n",
    "            q_vals = rewards\n",
    "        else:\n",
    "            q_vals_next = self.q_network.predict(new_states)\n",
    "            q_vals_next = self.q_scaler.inverse_transform(q_vals_next)\n",
    "            \n",
    "            # the correct axis should be axis=1\n",
    "            q_vals_next_star = np.max(q_vals_next, axis=1)\n",
    "            #q_vals_next_star = np.max(q_vals_next, axis=0)\n",
    "\n",
    "            q_vals = rewards + self.gamma * q_vals_next_star\n",
    "\n",
    "\n",
    "        return q_vals\n"
   ]
  },
  {
   "cell_type": "code",
   "execution_count": 67,
   "metadata": {},
   "outputs": [],
   "source": [
    "class StateSpaceSampler():\n",
    "    \n",
    "    def __init__(self):\n",
    "    \n",
    "        self.Q_min = 60\n",
    "        self.Q_max = 60\n",
    "        \n",
    "        self.K_min = 0\n",
    "        self.K_max = 5\n",
    "        \n",
    "        self.G_min = 0.0\n",
    "        self.G_max = 5.0\n",
    "        \n",
    "        self.Z_min = -200.0\n",
    "        self.Z_max = 200.0\n",
    "        \n",
    "        self.beta_K_min = 0.2\n",
    "        self.beta_K_max = 6.0\n",
    "        \n",
    "        self.beta_L_min = 0.2\n",
    "        self.beta_L_max = 6.0\n",
    "        \n",
    "    def draw_state(self):\n",
    "        Q = np.random.randint(self.Q_min, self.Q_max + 1)\n",
    "        K = np.random.randint(self.K_min, self.K_max + 1)\n",
    "        G = np.random.uniform(self.G_min, self.G_max)\n",
    "        Z = np.random.uniform(self.Z_min, self.Z_max)\n",
    "        \n",
    "        beta_K = np.random.uniform(self.beta_K_min, self.beta_K_max)\n",
    "        beta_L = np.random.uniform(self.beta_L_min, self.beta_L_max)\n",
    "        \n",
    "        return (Q, G, K, Z, beta_L)\n",
    "        \n",
    "    def expand_pos_states(self):\n",
    "        \"\"\"creates to expand possible states\"\"\"\n",
    "        self.Q_min = self.Q_min - 1\n",
    "        self.Q_max = self.Q_max - 1"
   ]
  },
  {
   "cell_type": "code",
   "execution_count": 68,
   "metadata": {},
   "outputs": [],
   "source": [
    "def transform_state(states):\n",
    "    \"\"\"helper for turning states in to parameters\"\"\"\n",
    "    states_ = states[0:4]\n",
    "    parameters = {\n",
    "        'beta_L': states[4]\n",
    "    }\n",
    "    return states_, parameters"
   ]
  },
  {
   "cell_type": "code",
   "execution_count": 57,
   "metadata": {},
   "outputs": [],
   "source": [
    "parameters = {\n",
    "    'beta_L' : 1,\n",
    "    'sigma_epsilon' : 0.1, \n",
    "    'S_min': 120.0,\n",
    "    'alpha': 4.609,\n",
    "    'eta_G': 0.164,\n",
    "    'eta_G_sq' : 0.015,\n",
    "    'delta': 0.209,\n",
    "    'sigma_epsilon': 15.11,\n",
    "    'omega': 3.5,\n",
    "}"
   ]
  },
  {
   "cell_type": "code",
   "execution_count": 58,
   "metadata": {},
   "outputs": [],
   "source": [
    "env = Environment(**parameters)"
   ]
  },
  {
   "cell_type": "code",
   "execution_count": 59,
   "metadata": {},
   "outputs": [],
   "source": [
    "agent = Agent(0.005, 0.99 ,16, 8, 5, 4)\n",
    "agent.load_model()\n",
    "sss = StateSpaceSampler()\n",
    "ACTIONS = np.array([0, 25, 37, 45])"
   ]
  },
  {
   "cell_type": "code",
   "execution_count": 60,
   "metadata": {},
   "outputs": [
    {
     "data": {
      "text/plain": [
       "array([[0.7220229 , 0.26687008, 0.1555842 , 0.7926965 ]], dtype=float32)"
      ]
     },
     "execution_count": 60,
     "metadata": {},
     "output_type": "execute_result"
    }
   ],
   "source": [
    "agent.q_network.predict(np.array([[1.1, 2.2, 3.3, 4.5, 1.1]]))"
   ]
  },
  {
   "cell_type": "markdown",
   "metadata": {},
   "source": [
    "rewards_all = list()\n",
    "while sss.Q_min > 24:\n",
    "    print(sss.Q_min)\n",
    "    for i in range(1000):\n",
    "\n",
    "        # ugly\n",
    "        _states_ = sss.draw_state()\n",
    "        _states, _params = transform_state(_states_)\n",
    "        scaled_state = scale_states(*_states_)\n",
    "\n",
    "        # ugly\n",
    "        rewards = np.zeros(shape=4)\n",
    "        new_states = np.zeros(shape=(4, 6)) \n",
    "        for ix, action in enumerate(ACTIONS):\n",
    "            env.reset(_states, _params)\n",
    "\n",
    "            new_scaled_state, reward, done, _info = env.step(action)\n",
    "            #scaled_reward = reward_scaler(reward, env.beta_K, env.beta_L)\n",
    "            #rewards[ix] = scaled_reward\n",
    "            rewards[ix] = reward\n",
    "            new_states[ix] = new_scaled_state\n",
    "        \n",
    "        print(rewards)\n",
    "        rewards_all.append(np.argmax(rewards))\n",
    "        q_vals = agent.predict_q_vals(new_states, rewards, done)\n",
    "        agent.remember(scaled_state, q_vals)\n",
    "\n",
    "    agent.learn()\n",
    "    sss.expand_pos_states()"
   ]
  },
  {
   "cell_type": "code",
   "execution_count": 61,
   "metadata": {},
   "outputs": [
    {
     "name": "stdout",
     "output_type": "stream",
     "text": [
      "\n",
      "\n",
      "age: 60\n",
      "-0.11558552919969085\n",
      "0.3554924202039776\n",
      "-0.04416449276855161\n",
      "0.017499683421936158\n",
      "0.15355522317219084\n",
      "rebuilding network\n",
      "# epochs: 67, loss: 0.0099, val loss: 0.00996, scaled val loss: 0.00119\n",
      "\n",
      "\n",
      "age: 59\n",
      "q_scaler sigma: 0.12, q_scaler mu: 0.049\n",
      "0.8273914712529944\n",
      "0.13049585655169932\n",
      "0.18239541307465146\n",
      "0.2772929842524784\n",
      "-0.07955735633410418\n",
      "rebuilding network\n",
      "# epochs: 111, loss: 0.101, val loss: 0.116, scaled val loss: 0.0212\n",
      "\n",
      "\n",
      "age: 58\n",
      "q_scaler sigma: 0.18, q_scaler mu: 0.13\n",
      "1.0411967190385998\n",
      "0.021006272135844384\n",
      "-0.06907832592401064\n",
      "1.2017521611101312\n",
      "1.0131173627452814\n",
      "rebuilding network\n",
      "# epochs: 89, loss: 0.0313, val loss: 0.0367, scaled val loss: 0.00889\n",
      "\n",
      "\n",
      "age: 57\n",
      "q_scaler sigma: 0.24, q_scaler mu: 0.2\n",
      "1.2499539233098886\n",
      "0.5016441395883101\n",
      "0.19869220055062797\n",
      "0.14723584412406865\n",
      "0.1629447367152134\n",
      "rebuilding network\n",
      "# epochs: 46, loss: 0.0275, val loss: 0.0333, scaled val loss: 0.0104\n",
      "\n",
      "\n",
      "age: 56\n",
      "q_scaler sigma: 0.31, q_scaler mu: 0.27\n",
      "0.5633154092405471\n",
      "1.4807009910073272\n",
      "1.996294264270342\n",
      "0.20799316393122425\n",
      "0.8673689895218004\n",
      "rebuilding network\n",
      "# epochs: 63, loss: 0.0199, val loss: 0.019, scaled val loss: 0.00743\n"
     ]
    }
   ],
   "source": [
    "rewards_all = list()\n",
    "while sss.Q_min > 55:\n",
    "    print(\"\\n\")\n",
    "    print(f\"age: {sss.Q_min}\")\n",
    "    try:\n",
    "        print(f\"q_scaler sigma: {float(agent.q_scaler.sigma):.2}, q_scaler mu: {float(agent.q_scaler.mu):.2}\")\n",
    "    except:\n",
    "        pass\n",
    "\n",
    "    for i in range(500):\n",
    "\n",
    "        # ugly\n",
    "        _states_ = sss.draw_state()\n",
    "        _states, _params = transform_state(_states_)\n",
    "        #scaled_state = scale_states(*_states_)\n",
    "\n",
    "\n",
    "        # ugly\n",
    "        rewards = np.zeros(shape=4)\n",
    "        new_states = np.zeros(shape=(4, 5)) \n",
    "        for ix, action in enumerate(ACTIONS):\n",
    "            env.reset(_states, _params)\n",
    "\n",
    "            new_state, reward, done, _info = env.step(action)\n",
    "            scaled_reward = reward_scaler(reward, env.beta_L)\n",
    "            rewards[ix] = scaled_reward\n",
    "            #rewards[ix] = reward\n",
    "            new_states[ix] = new_state\n",
    "        \n",
    "        rewards_all.append(np.argmax(rewards))\n",
    "        q_vals = agent.predict_q_vals(new_states, rewards, done)\n",
    "        \n",
    "        if i < 5:\n",
    "            print(q_vals[0][0])\n",
    "            \n",
    "        agent.remember(_states_, q_vals)\n",
    "\n",
    "    agent.learn()\n",
    "    sss.expand_pos_states()"
   ]
  },
  {
   "cell_type": "code",
   "execution_count": 69,
   "metadata": {},
   "outputs": [
    {
     "name": "stdout",
     "output_type": "stream",
     "text": [
      "{'mu': 0.3630390895127811, 'sigma': 0.39043367483622143}\n"
     ]
    }
   ],
   "source": [
    "agent.save_model()"
   ]
  },
  {
   "cell_type": "code",
   "execution_count": 70,
   "metadata": {},
   "outputs": [],
   "source": [
    "agent.load_model()"
   ]
  },
  {
   "attachments": {
    "image.png": {
     "image/png": "[encoded data removed]"
    }
   },
   "cell_type": "markdown",
   "metadata": {},
   "source": [
    "Resultat på måde (axis=0)\n",
    "\n",
    "![image.png](attachment:image.png)"
   ]
  },
  {
   "cell_type": "code",
   "execution_count": 71,
   "metadata": {},
   "outputs": [],
   "source": [
    "rewards_history, action_history = list(), list()\n",
    "EPISODES = 150\n",
    "agent.epsilon=0.0\n",
    "\n",
    "agent.q_scaler.mu = 0.068\n",
    "agent.q_scaler.sigma = 0.16\n",
    "\n",
    "\n",
    "for e in range(EPISODES):\n",
    "    env.reset()\n",
    "    state = env.states\n",
    "    for time in range(18, 500):\n",
    "        action, q_vals = agent.act(state)\n",
    "        _action = translate_action(action)\n",
    "        next_state, reward, done, _ = env.step(_action)\n",
    "        scaled_reward = (reward - 24 ) / 5\n",
    "\n",
    "        \n",
    "        rewards_history.append([reward, e, time])\n",
    "        action_history.append([_action, e, time])\n",
    "        \n",
    "        state = next_state\n",
    "        if done:\n",
    "            #print(\"episode: {}/{}, score: {}, e: {:.2}\".format(e, EPISODES, np.mean(rewards_history), agent.epsilon))\n",
    "            break\n",
    "\n",
    "df_DQAgent = pd.DataFrame(rewards_history, columns=['rewards', 'episode', 'Q'])\n",
    "df_DQAgent_action = pd.DataFrame(action_history, columns=['actions', 'episode', 'Q'])"
   ]
  },
  {
   "cell_type": "code",
   "execution_count": 72,
   "metadata": {},
   "outputs": [],
   "source": [
    "def random_action():\n",
    "    act = np.random.randint(0, 4)\n",
    "    return [0, 25, 37, 45][act]\n"
   ]
  },
  {
   "cell_type": "code",
   "execution_count": 73,
   "metadata": {},
   "outputs": [],
   "source": [
    "rewards_history, action_history = list(), list()\n",
    "EPISODES = 150\n",
    "for e in range(EPISODES):\n",
    "    env.reset()\n",
    "    state = env.states\n",
    "    for time in range(18, 500):\n",
    "        _action = random_action()\n",
    "        next_state, reward, done, _ = env.step(_action)\n",
    "\n",
    "        \n",
    "        rewards_history.append([reward, e, time])\n",
    "        action_history.append([_action, e, time])\n",
    "        \n",
    "        state = next_state\n",
    "        if done:\n",
    "            break\n",
    "            \n",
    "df_random_agent = pd.DataFrame(rewards_history, columns=['rewards', 'episode', 'Q'])"
   ]
  },
  {
   "cell_type": "code",
   "execution_count": 74,
   "metadata": {},
   "outputs": [],
   "source": [
    "rewards_history, action_history = list(), list()\n",
    "EPISODES = 150\n",
    "for e in range(EPISODES):\n",
    "    env.reset()\n",
    "    state = env.states\n",
    "    for time in range(18, 500):\n",
    "        _action = 0\n",
    "        next_state, reward, done, _ = env.step(_action)\n",
    "\n",
    "        \n",
    "        rewards_history.append([reward, e, time])\n",
    "        action_history.append([_action, e, time])\n",
    "        \n",
    "        state = next_state\n",
    "        if done:\n",
    "            break\n",
    "\n",
    "df_0_agent = pd.DataFrame(rewards_history, columns=['rewards', 'episode', 'Q'])"
   ]
  },
  {
   "cell_type": "code",
   "execution_count": 75,
   "metadata": {},
   "outputs": [],
   "source": [
    "rewards_history, action_history = list(), list()\n",
    "EPISODES = 150\n",
    "for e in range(EPISODES):\n",
    "    env.reset()\n",
    "    state = env.states\n",
    "    for time in range(18, 500):\n",
    "        _action = 37\n",
    "        next_state, reward, done, _ = env.step(_action)\n",
    "\n",
    "        \n",
    "        rewards_history.append([reward, e, time])\n",
    "        action_history.append([_action, e, time])\n",
    "        \n",
    "        state = next_state\n",
    "        if done:\n",
    "            break\n",
    "\n",
    "df_37_agent = pd.DataFrame(rewards_history, columns=['rewards', 'episode', 'Q'])"
   ]
  },
  {
   "cell_type": "code",
   "execution_count": 76,
   "metadata": {},
   "outputs": [],
   "source": [
    "rewards_history, action_history = list(), list()\n",
    "EPISODES = 150\n",
    "for e in range(EPISODES):\n",
    "    env.reset()\n",
    "    state = env.states\n",
    "    for time in range(18, 500):\n",
    "        _action = 45\n",
    "        next_state, reward, done, _ = env.step(_action)\n",
    "\n",
    "        \n",
    "        rewards_history.append([reward, e, time])\n",
    "        action_history.append([_action, e, time])\n",
    "        \n",
    "        state = next_state\n",
    "        if done:\n",
    "            break\n",
    "\n",
    "df_45_agent = pd.DataFrame(rewards_history, columns=['rewards', 'episode', 'Q'])"
   ]
  },
  {
   "cell_type": "code",
   "execution_count": 77,
   "metadata": {},
   "outputs": [
    {
     "data": {
      "text/plain": [
       "<matplotlib.legend.Legend at 0x1518e4210>"
      ]
     },
     "execution_count": 77,
     "metadata": {},
     "output_type": "execute_result"
    },
    {
     "data": {
      "image/png": "[encoded data removed]",
      "text/plain": [
       "<Figure size 432x288 with 1 Axes>"
      ]
     },
     "metadata": {
      "needs_background": "light"
     },
     "output_type": "display_data"
    }
   ],
   "source": [
    "import matplotlib.pyplot as plt\n",
    "#plt.plot(df_random_agent.drop('episode', axis=1).groupby('Q').mean(), label='Random Agent')\n",
    "plt.plot(df_DQAgent.drop('episode', axis=1).groupby('Q').mean(), label='DQ Agent')\n",
    "plt.plot(df_37_agent.drop('episode', axis=1).groupby('Q').mean(), label='37 hour Agent')\n",
    "plt.plot(df_45_agent.drop('episode', axis=1).groupby('Q').mean(), label='45 hour Agent')\n",
    "plt.plot(df_0_agent.drop('episode', axis=1).groupby('Q').mean(), label='0 hour Agent')\n",
    "plt.plot(df_random_agent.drop('episode', axis=1).groupby('Q').mean(), label='random Agent')\n",
    "\n",
    "\n",
    "plt.legend()"
   ]
  },
  {
   "cell_type": "code",
   "execution_count": 78,
   "metadata": {},
   "outputs": [
    {
     "data": {
      "text/plain": [
       "<matplotlib.collections.PolyCollection at 0x150b44850>"
      ]
     },
     "execution_count": 78,
     "metadata": {},
     "output_type": "execute_result"
    },
    {
     "data": {
      "image/png": "[encoded data removed]",
      "text/plain": [
       "<Figure size 432x288 with 1 Axes>"
      ]
     },
     "metadata": {
      "needs_background": "light"
     },
     "output_type": "display_data"
    }
   ],
   "source": [
    "upper_bound = df_DQAgent_action.drop('episode', axis=1).groupby('Q').mean() \\\n",
    "              + df_DQAgent_action.drop('episode', axis=1).groupby('Q').std()\n",
    "lower_bound = df_DQAgent_action.drop('episode', axis=1).groupby('Q').mean() \\\n",
    "              - df_DQAgent_action.drop('episode', axis=1).groupby('Q').std()\n",
    "\n",
    "plt.plot(df_DQAgent_action.drop('episode', axis=1).groupby('Q').mean())\n",
    "plt.fill_between(range(18,61), upper_bound['actions'], lower_bound['actions'], alpha=0.3)\n"
   ]
  },
  {
   "cell_type": "code",
   "execution_count": 29,
   "metadata": {},
   "outputs": [],
   "source": []
  },
  {
   "cell_type": "code",
   "execution_count": null,
   "metadata": {},
   "outputs": [],
   "source": []
  }
 ],
 "metadata": {
  "kernelspec": {
   "display_name": "Python 3 (master thesis)",
   "language": "python",
   "name": "masterthesis"
  },
  "language_info": {
   "codemirror_mode": {
    "name": "ipython",
    "version": 3
   },
   "file_extension": ".py",
   "mimetype": "text/x-python",
   "name": "python",
   "nbconvert_exporter": "python",
   "pygments_lexer": "ipython3",
   "version": "3.7.5"
  }
 },
 "nbformat": 4,
 "nbformat_minor": 2
}
