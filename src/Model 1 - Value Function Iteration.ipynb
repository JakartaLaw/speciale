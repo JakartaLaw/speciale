{
 "cells": [
  {
   "cell_type": "code",
   "execution_count": 2,
   "metadata": {},
   "outputs": [],
   "source": [
    "from abc import ABC, abstractmethod\n",
    "import numpy as np"
   ]
  },
  {
   "cell_type": "code",
   "execution_count": 5,
   "metadata": {},
   "outputs": [],
   "source": [
    "class InterfaceEnvironment(ABC):\n",
    "    \n",
    "    @abstractmethod\n",
    "    def __init__(self):\n",
    "        pass\n",
    "    \n",
    "    @property\n",
    "    @abstractmethod\n",
    "    def states(self):\n",
    "        \"\"\"The representation of the state space\"\"\"\n",
    "        pass\n",
    "    \n",
    "    \n",
    "    @abstractmethod\n",
    "    def step(self, action):\n",
    "        \"\"\"Takes a step. Uses action for the step\"\"\"\n",
    "        pass\n",
    "    \n",
    "    @abstractmethod\n",
    "    def reset(self):\n",
    "        \"\"\"resets environment. Defaults back to starting period. \n",
    "        reset method also can take a state (used for solving the model)\"\"\"\n",
    "        pass\n",
    "    \n",
    "    "
   ]
  },
  {
   "cell_type": "code",
   "execution_count": 16,
   "metadata": {},
   "outputs": [],
   "source": [
    "class EnvironmentModel1(InterfaceEnvironment):\n",
    "    \n",
    "    \"\"\"\n",
    "    Ordering of items\n",
    "    states: Q, M, K, W\n",
    "    shocks: epsilon, rho, gamma\n",
    "    \"\"\"\n",
    "    \n",
    "    DEFAULT_AGE = 18\n",
    "    DEFAULT_CASH_ON_HAND = 500\n",
    "    DEFAULT_KIDS = 0\n",
    "    DEFAULT_WAGE = 120\n",
    "    \n",
    "    def __init__(self, kappa, mu_rho, sigma_rho, p_gamma, sigma_epsilon, a, b, c, d):\n",
    "        \n",
    "        #parameters\n",
    "        self.kappa = kappa\n",
    "        self.mu_rho = mu_rho\n",
    "        self.sigma_rho = sigma_rho\n",
    "        self.p_gamma = p_gamma\n",
    "        self.sigma_epsilon = sigma_epsilon\n",
    "        \n",
    "        self.a = a\n",
    "        self.b = b\n",
    "        self.c = c\n",
    "        self.d = d\n",
    "        \n",
    "        #states\n",
    "        self.age = self.DEFAULT_AGE\n",
    "        self.cash_on_hand = self.DEFAULT_CASH_ON_HAND\n",
    "        self.kids = self.DEFAULT_KIDS\n",
    "        self.wage = self.DEFAULT_WAGE\n",
    "        \n",
    "    def __repr__(self):\n",
    "        return f\"(Q: {self.age}, M: {self.cash_on_hand}, K: {self.kids}, W: {self.wage})\"\n",
    "    \n",
    "    def reset(self, states=None):\n",
    "        if states is None:\n",
    "            age, cash_on_hand, kids, wage = states[0], states[1], states[2], states[3]\n",
    "            self.age = age\n",
    "            self.cash_on_hand = cash_on_hand\n",
    "            sef.kids = kids\n",
    "            self.wage = wage\n",
    "        else:\n",
    "            self.age = self.DEFAULT_AGE\n",
    "            self.cash_on_hand = self.DEFAULT_CASH_ON_HAND\n",
    "            self.kids = self.DEFAULT_KIDS\n",
    "            self.wage = self.DEFAULT_WAGE\n",
    "        \n",
    "    def step(self, action, shocks=None):\n",
    "        if shocks is None:\n",
    "            shocks = self.draw_shocks()\n",
    "    \n",
    "        ### transitions\n",
    "        self.calc_age()\n",
    "        self.calc_wage()\n",
    "        \n",
    "        # necessary for cash_on_hand\n",
    "        salary = self.calc_salary(action)\n",
    "\n",
    "        self.calc_cash_on_hand(salary, shocks[1])\n",
    "        self.calc_kids(shocks[2])\n",
    "        \n",
    "        ### model dynamic\n",
    "        leisure = self.calc_leisure()\n",
    "        alpha = self.calc_alpha()\n",
    "        consumption = self.calc_consumption()\n",
    "        assets = self.calc_assets(consumption)\n",
    "        \n",
    "        utility = self.calc_utility(consumption, leisure, alpha)\n",
    "\n",
    "    @property\n",
    "    def states(self):\n",
    "        return self.age, self.cash_on_hand, self.kids, self.wage\n",
    "    \n",
    "    \n",
    "    #model dynamic\n",
    "    def calc_utility(self, consumption, leisure, alpha):\n",
    "        return consumption**(1 - alpha) * leisure**(alpha)\n",
    "    \n",
    "    def calc_alpha(self):\n",
    "        return self.f_alpha()\n",
    "    \n",
    "    def calc_assets(self, consumption):\n",
    "        return self.cash_on_hand - consumption\n",
    "    \n",
    "    def calc_salary(self, hours):\n",
    "        return hours * self.wage\n",
    "    \n",
    "    def calc_consumption(self):\n",
    "        return self.kappa * self.cash_on_hand\n",
    "    \n",
    "    def calc_leisure(self, hours):\n",
    "        return 7 * 24 - hours\n",
    "    \n",
    "    def calc_dies(self):\n",
    "        # stops the model (returns done flag)\n",
    "        if self.age > 85:\n",
    "            return True\n",
    "        return False\n",
    "    \n",
    "    # transitions (L.O.M)\n",
    "    def calc_cash_on_hand(self, salary, rho):\n",
    "        self.cash_on_hand = rho * self.assets + salary\n",
    "    \n",
    "    def calc_kids(self, gamma):\n",
    "        if self.kids < 5:\n",
    "            self.kids = self.kids + gamma\n",
    "    \n",
    "    def calc_wage(self, epsilon):\n",
    "        self.wage = self.wage * self.f_w() * epsilon\n",
    "    \n",
    "    def calc_age(self):\n",
    "        self.age = age + 1\n",
    "    \n",
    "    # def shocks\n",
    "    def draw_shocks(self):\n",
    "        return (self.draw_epsilon(), self.draw_rho(), self.draw_gamma())\n",
    "        \n",
    "    def draw_epsilon(self):\n",
    "        return np.exp(np.random.lognormal(0, self.sigma_epsilon))\n",
    "    \n",
    "    def draw_rho(self):\n",
    "        return np.random.normal(self.mu_rho, self.sigma_rho)\n",
    "    \n",
    "    def draw_gamma(self):\n",
    "        return np.random.binomial(1,self.p_gamma)\n",
    "            \n",
    "    \n",
    "    # function\n",
    "    def f_alpha(self):\n",
    "        _exp = np.exp(self.c + self.d*self.kids)\n",
    "        self.a + self.b* ( _exp / (1 + _exp))\n",
    "    \n",
    "    def f_w(self):\n",
    "        # should be changed when data is available for the permanint income structure of the income dynamic\n",
    "        self.age * 1"
   ]
  },
  {
   "cell_type": "code",
   "execution_count": 17,
   "metadata": {},
   "outputs": [],
   "source": [
    "parameters = {\n",
    "    'kappa' : 0.5, \n",
    "    'mu_rho' : 0.06, \n",
    "    'sigma_rho' : 0.12, \n",
    "    'p_gamma' : 0.3, \n",
    "    'sigma_epsilon' : 3, \n",
    "    'a' : 0.3, \n",
    "    'b' : 0.3, \n",
    "    'c' : -2, \n",
    "    'd' : 1.5\n",
    "}"
   ]
  },
  {
   "cell_type": "code",
   "execution_count": 18,
   "metadata": {},
   "outputs": [],
   "source": [
    "env = EnvironmentModel1(**parameters)"
   ]
  },
  {
   "cell_type": "code",
   "execution_count": 19,
   "metadata": {},
   "outputs": [
    {
     "ename": "NameError",
     "evalue": "name 'assets' is not defined",
     "output_type": "error",
     "traceback": [
      "\u001b[0;31m---------------------------------------------------------------------------\u001b[0m",
      "\u001b[0;31mNameError\u001b[0m                                 Traceback (most recent call last)",
      "\u001b[0;32m<ipython-input-19-34481d7f23c7>\u001b[0m in \u001b[0;36m<module>\u001b[0;34m\u001b[0m\n\u001b[0;32m----> 1\u001b[0;31m \u001b[0menv\u001b[0m\u001b[0;34m.\u001b[0m\u001b[0mstep\u001b[0m\u001b[0;34m(\u001b[0m\u001b[0;36m37\u001b[0m\u001b[0;34m)\u001b[0m\u001b[0;34m\u001b[0m\u001b[0;34m\u001b[0m\u001b[0m\n\u001b[0m",
      "\u001b[0;32m<ipython-input-16-f26d884e428f>\u001b[0m in \u001b[0;36mstep\u001b[0;34m(self, action, shocks)\u001b[0m\n\u001b[1;32m     54\u001b[0m         \u001b[0msalary\u001b[0m \u001b[0;34m=\u001b[0m \u001b[0mself\u001b[0m\u001b[0;34m.\u001b[0m\u001b[0mcalc_salary\u001b[0m\u001b[0;34m(\u001b[0m\u001b[0maction\u001b[0m\u001b[0;34m)\u001b[0m\u001b[0;34m\u001b[0m\u001b[0;34m\u001b[0m\u001b[0m\n\u001b[1;32m     55\u001b[0m         \u001b[0malpha\u001b[0m \u001b[0;34m=\u001b[0m \u001b[0mself\u001b[0m\u001b[0;34m.\u001b[0m\u001b[0mcalc_alpha\u001b[0m\u001b[0;34m(\u001b[0m\u001b[0;34m)\u001b[0m\u001b[0;34m\u001b[0m\u001b[0;34m\u001b[0m\u001b[0m\n\u001b[0;32m---> 56\u001b[0;31m         \u001b[0mconsumption\u001b[0m \u001b[0;34m=\u001b[0m \u001b[0mself\u001b[0m\u001b[0;34m.\u001b[0m\u001b[0mcalc_consumption\u001b[0m\u001b[0;34m(\u001b[0m\u001b[0massets\u001b[0m\u001b[0;34m)\u001b[0m\u001b[0;34m\u001b[0m\u001b[0;34m\u001b[0m\u001b[0m\n\u001b[0m\u001b[1;32m     57\u001b[0m \u001b[0;34m\u001b[0m\u001b[0m\n\u001b[1;32m     58\u001b[0m         \u001b[0;31m# transition\u001b[0m\u001b[0;34m\u001b[0m\u001b[0;34m\u001b[0m\u001b[0;34m\u001b[0m\u001b[0m\n",
      "\u001b[0;31mNameError\u001b[0m: name 'assets' is not defined"
     ]
    }
   ],
   "source": [
    "env.step(37)"
   ]
  },
  {
   "cell_type": "code",
   "execution_count": 74,
   "metadata": {},
   "outputs": [],
   "source": [
    "def f_alpha_(a, b, c, d, K):\n",
    "\n",
    "    _exp = np.exp(c + d* K)\n",
    "    return a +b* ( _exp / (1 + _exp))\n",
    "    "
   ]
  },
  {
   "cell_type": "code",
   "execution_count": 75,
   "metadata": {},
   "outputs": [],
   "source": [
    "import matplotlib.pyplot as plt"
   ]
  },
  {
   "cell_type": "code",
   "execution_count": 80,
   "metadata": {},
   "outputs": [],
   "source": [
    "K_list = [K for K in range(0,6)]\n",
    "alphas = [f_alpha_(a=0.3, b=0.3, c=-2, d=1.5, K=K) for K in K_list]"
   ]
  },
  {
   "cell_type": "code",
   "execution_count": 81,
   "metadata": {},
   "outputs": [
    {
     "data": {
      "text/plain": [
       "[<matplotlib.lines.Line2D at 0x11707dfd0>]"
      ]
     },
     "execution_count": 81,
     "metadata": {},
     "output_type": "execute_result"
    },
    {
     "data": {
      "image/png": "[encoded data removed]",
      "text/plain": [
       "<Figure size 432x288 with 1 Axes>"
      ]
     },
     "metadata": {
      "needs_background": "light"
     },
     "output_type": "display_data"
    }
   ],
   "source": [
    "plt.plot(K_list, alphas)"
   ]
  },
  {
   "cell_type": "code",
   "execution_count": 130,
   "metadata": {},
   "outputs": [],
   "source": [
    "draws = list()\n",
    "for i in range(100000):\n",
    "    draws.append(np.random.binomial(1,0.5))"
   ]
  },
  {
   "cell_type": "code",
   "execution_count": 131,
   "metadata": {},
   "outputs": [
    {
     "data": {
      "text/plain": [
       "0.50177"
      ]
     },
     "execution_count": 131,
     "metadata": {},
     "output_type": "execute_result"
    }
   ],
   "source": [
    "np.mean(draws)"
   ]
  },
  {
   "cell_type": "code",
   "execution_count": null,
   "metadata": {},
   "outputs": [],
   "source": []
  }
 ],
 "metadata": {
  "kernelspec": {
   "display_name": "Python 3 (master thesis)",
   "language": "python",
   "name": "masterthesis"
  },
  "language_info": {
   "codemirror_mode": {
    "name": "ipython",
    "version": 3
   },
   "file_extension": ".py",
   "mimetype": "text/x-python",
   "name": "python",
   "nbconvert_exporter": "python",
   "pygments_lexer": "ipython3",
   "version": "3.7.2"
  }
 },
 "nbformat": 4,
 "nbformat_minor": 2
}
