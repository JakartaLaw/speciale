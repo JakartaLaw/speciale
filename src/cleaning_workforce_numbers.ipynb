{
 "cells": [
  {
   "cell_type": "code",
   "execution_count": 7,
   "metadata": {},
   "outputs": [],
   "source": [
    "import pandas as pd\n",
    "import matplotlib.pyplot as plt\n",
    "import os"
   ]
  },
  {
   "cell_type": "code",
   "execution_count": 8,
   "metadata": {},
   "outputs": [
    {
     "data": {
      "text/plain": [
       "['wealth_by_age_group_emprical.pkl',\n",
       " 'fertility.pkl',\n",
       " 'ddqn_estimation_beta_L_simple_model.pkl',\n",
       " 'dqn_estimation_beta_L_simple_model.pkl',\n",
       " 'dqi_states_model1_opt_beta_simulations.pkl',\n",
       " 'FOLK1B.csv',\n",
       " 'AKU610A.csv',\n",
       " 'FOD33.csv',\n",
       " 'wage_quartiles_empirical_women.pkl',\n",
       " 'FAM44_csv.csv',\n",
       " 'LONS50_women.csv',\n",
       " 'FORMUE7.csv',\n",
       " 'dqi_model1_opt_beta_simulations.pkl',\n",
       " 'women_hours_empirical',\n",
       " 'LONS20_women.csv',\n",
       " 'women_salary_mean.pkl',\n",
       " 'LIGEF15_women.csv',\n",
       " 'wage_variance_parameters_hat.pkl',\n",
       " 'LIGEF15_men.csv',\n",
       " 'total_score_dqn_simple_model.pkl',\n",
       " 'LONS_50_women_quartiles.csv',\n",
       " 'LONS20_men.csv',\n",
       " 'wage_path_parameters_hat.pkl',\n",
       " 'wage_quartiles_empirical_men.pkl',\n",
       " 'men_hours_empirical',\n",
       " 'dqi_actions_model1_opt_beta_simulations.pkl',\n",
       " 'men_wage_path.pkl',\n",
       " 'men_salary_mean.pkl',\n",
       " 'LONS_50_men_quartiles.csv',\n",
       " 'total_score_ddqn_simple_model.pkl',\n",
       " 'LONS50_men.csv']"
      ]
     },
     "execution_count": 8,
     "metadata": {},
     "output_type": "execute_result"
    }
   ],
   "source": [
    "os.listdir('..//data')"
   ]
  },
  {
   "cell_type": "code",
   "execution_count": 20,
   "metadata": {},
   "outputs": [],
   "source": [
    "cols = ['køn', 'Årstal','Uden for arbejdsstyrken i alt', 'Hjemmearbejdende uden erhvervsarbejde', 'Skoleelever, studerende og kursister', 'Øvrige personer uden for arbejdsstyrken']\n",
    "\n",
    "df_not_working = pd.read_csv('..//data//AKU610A.csv', sep=';', header=None)\n",
    "\n",
    "df_not_working.columns = cols\n"
   ]
  },
  {
   "cell_type": "code",
   "execution_count": 21,
   "metadata": {},
   "outputs": [
    {
     "data": {
      "text/html": [
       "<div>\n",
       "<style scoped>\n",
       "    .dataframe tbody tr th:only-of-type {\n",
       "        vertical-align: middle;\n",
       "    }\n",
       "\n",
       "    .dataframe tbody tr th {\n",
       "        vertical-align: top;\n",
       "    }\n",
       "\n",
       "    .dataframe thead th {\n",
       "        text-align: right;\n",
       "    }\n",
       "</style>\n",
       "<table border=\"1\" class=\"dataframe\">\n",
       "  <thead>\n",
       "    <tr style=\"text-align: right;\">\n",
       "      <th></th>\n",
       "      <th>køn</th>\n",
       "      <th>Årstal</th>\n",
       "      <th>Uden for arbejdsstyrken i alt</th>\n",
       "      <th>Hjemmearbejdende uden erhvervsarbejde</th>\n",
       "      <th>Skoleelever, studerende og kursister</th>\n",
       "      <th>Øvrige personer uden for arbejdsstyrken</th>\n",
       "    </tr>\n",
       "  </thead>\n",
       "  <tbody>\n",
       "    <tr>\n",
       "      <th>0</th>\n",
       "      <td>Kvinder</td>\n",
       "      <td>2019</td>\n",
       "      <td>439</td>\n",
       "      <td>15</td>\n",
       "      <td>161</td>\n",
       "      <td>66</td>\n",
       "    </tr>\n",
       "  </tbody>\n",
       "</table>\n",
       "</div>"
      ],
      "text/plain": [
       "       køn  Årstal  Uden for arbejdsstyrken i alt  \\\n",
       "0  Kvinder    2019                            439   \n",
       "\n",
       "   Hjemmearbejdende uden erhvervsarbejde  \\\n",
       "0                                     15   \n",
       "\n",
       "   Skoleelever, studerende og kursister  \\\n",
       "0                                   161   \n",
       "\n",
       "   Øvrige personer uden for arbejdsstyrken  \n",
       "0                                       66  "
      ]
     },
     "execution_count": 21,
     "metadata": {},
     "output_type": "execute_result"
    }
   ],
   "source": [
    "df_not_working"
   ]
  },
  {
   "cell_type": "code",
   "execution_count": 24,
   "metadata": {},
   "outputs": [
    {
     "name": "stdout",
     "output_type": "stream",
     "text": [
      "242\n"
     ]
    }
   ],
   "source": [
    "thousands_not_working = 15 + 161 + 66\n",
    "print(thousands_not_working)\n"
   ]
  },
  {
   "cell_type": "code",
   "execution_count": 30,
   "metadata": {},
   "outputs": [],
   "source": [
    "age_cols_ = [\"15-19 år\", \"20-24 år\", \"25-29 år\", \"30-34 år\", \"35-39 år\", \"40-44 år\", \"45-49 år\", \"50-54 år\", \"55-59 år\"]\n",
    "prefix_cols = ['type', 'køn', 'geografi', 'tidspunkt']\n",
    "age_cols = prefix_cols + age_cols_\n",
    "\n",
    "df_age_cohorts = pd.read_csv('..//data//FOLK1B.csv', sep=';', header=None)\n",
    "df_age_cohorts.columns = age_cols"
   ]
  },
  {
   "cell_type": "code",
   "execution_count": null,
   "metadata": {},
   "outputs": [],
   "source": [
    "df_age_cohorts"
   ]
  },
  {
   "cell_type": "code",
   "execution_count": 34,
   "metadata": {},
   "outputs": [],
   "source": [
    "n_women = df_age_cohorts.drop(['type', 'køn', 'geografi', 'tidspunkt'],axis=1).sum(axis=1)"
   ]
  },
  {
   "cell_type": "code",
   "execution_count": 36,
   "metadata": {},
   "outputs": [
    {
     "data": {
      "text/plain": [
       "0    1664.484\n",
       "dtype: float64"
      ]
     },
     "execution_count": 36,
     "metadata": {},
     "output_type": "execute_result"
    }
   ],
   "source": [
    "n_women / 1000"
   ]
  },
  {
   "cell_type": "code",
   "execution_count": 38,
   "metadata": {},
   "outputs": [
    {
     "data": {
      "text/plain": [
       "0    0.14539\n",
       "dtype: float64"
      ]
     },
     "execution_count": 38,
     "metadata": {},
     "output_type": "execute_result"
    }
   ],
   "source": [
    "thousands_not_working / (n_women / 1000)"
   ]
  },
  {
   "cell_type": "code",
   "execution_count": 39,
   "metadata": {},
   "outputs": [
    {
     "data": {
      "text/plain": [
       "0.14543269230769232"
      ]
     },
     "execution_count": 39,
     "metadata": {},
     "output_type": "execute_result"
    }
   ],
   "source": [
    "0.242 / 1.664"
   ]
  },
  {
   "cell_type": "code",
   "execution_count": null,
   "metadata": {},
   "outputs": [],
   "source": []
  }
 ],
 "metadata": {
  "kernelspec": {
   "display_name": "Python 3 (master thesis)",
   "language": "python",
   "name": "masterthesis"
  },
  "language_info": {
   "codemirror_mode": {
    "name": "ipython",
    "version": 3
   },
   "file_extension": ".py",
   "mimetype": "text/x-python",
   "name": "python",
   "nbconvert_exporter": "python",
   "pygments_lexer": "ipython3",
   "version": "3.7.5"
  }
 },
 "nbformat": 4,
 "nbformat_minor": 4
}
