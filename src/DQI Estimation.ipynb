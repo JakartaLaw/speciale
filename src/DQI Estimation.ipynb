{
 "cells": [
  {
   "cell_type": "code",
   "execution_count": 9,
   "metadata": {},
   "outputs": [],
   "source": [
    "import pandas as pd\n",
    "import matplotlib.pyplot as plt\n",
    "import numpy as np\n",
    "import pickle"
   ]
  },
  {
   "cell_type": "code",
   "execution_count": 2,
   "metadata": {},
   "outputs": [],
   "source": [
    "np.random.seed(42)"
   ]
  },
  {
   "cell_type": "code",
   "execution_count": 3,
   "metadata": {},
   "outputs": [],
   "source": [
    "from environments import EnvironmentModel1 as Environment\n",
    "from environments import translate_action_model1 as translate_action\n",
    "from environments import reward_scaler_model1 as reward_scaler\n",
    "from environments import STATES_MU1, STATES_SIGMA1\n",
    "from environments.model1 import scale_states"
   ]
  },
  {
   "cell_type": "code",
   "execution_count": 4,
   "metadata": {},
   "outputs": [],
   "source": [
    "from agents import DQIterationAgent as Agent"
   ]
  },
  {
   "cell_type": "code",
   "execution_count": 5,
   "metadata": {},
   "outputs": [],
   "source": [
    "size_multiplier = 0.7\n",
    "FIGSIZE = (14*size_multiplier, 8*size_multiplier)"
   ]
  },
  {
   "cell_type": "code",
   "execution_count": 6,
   "metadata": {},
   "outputs": [],
   "source": [
    "agent = Agent(0.005, 0.99 ,16, 8, 5, 4, STATES_MU1, STATES_SIGMA1)"
   ]
  },
  {
   "cell_type": "code",
   "execution_count": 7,
   "metadata": {},
   "outputs": [],
   "source": [
    "agent.load_model(\"models//dqfi_model\")"
   ]
  },
  {
   "cell_type": "code",
   "execution_count": 10,
   "metadata": {},
   "outputs": [],
   "source": [
    "with open('..//data//women_hours_empirical', 'rb') as f:\n",
    "    women_hours = pickle.load(f)"
   ]
  },
  {
   "cell_type": "code",
   "execution_count": 11,
   "metadata": {},
   "outputs": [
    {
     "data": {
      "text/plain": [
       "[<matplotlib.lines.Line2D at 0x13c810fd0>]"
      ]
     },
     "execution_count": 11,
     "metadata": {},
     "output_type": "execute_result"
    },
    {
     "data": {
      "image/png": "[encoded data removed]",
      "text/plain": [
       "<Figure size 432x288 with 1 Axes>"
      ]
     },
     "metadata": {
      "needs_background": "light"
     },
     "output_type": "display_data"
    }
   ],
   "source": [
    "plt.plot(women_hours)"
   ]
  },
  {
   "cell_type": "code",
   "execution_count": 128,
   "metadata": {},
   "outputs": [],
   "source": [
    "parameters = {\n",
    "    'beta_L' : 3,\n",
    "    'sigma_epsilon' : 0.1, \n",
    "    'S_min': 120.0,\n",
    "    'alpha': 4.609,\n",
    "    'eta_G': 0.164,\n",
    "    'eta_G_sq' : 0.015,\n",
    "    'delta': 0.209,\n",
    "    'sigma_epsilon': 15.11,\n",
    "    'omega': 3.5,\n",
    "}\n",
    "\n",
    "EPISODES = 30"
   ]
  },
  {
   "cell_type": "code",
   "execution_count": 137,
   "metadata": {},
   "outputs": [],
   "source": [
    "def simulate_observations(parameters, n_episodes):\n",
    "\n",
    "    env = Environment(**parameters)\n",
    "\n",
    "    rewards_history, action_history = list(), list()\n",
    "    agent.epsilon=0.0\n",
    "    agent.q_scaler.mu = 0.068\n",
    "    agent.q_scaler.sigma = 0.16\n",
    "\n",
    "\n",
    "    for e in range(n_episodes):\n",
    "        env.reset()\n",
    "        state = env.states\n",
    "        for time in range(18, 500):\n",
    "            action, q_vals = agent.act(state)\n",
    "            _action = translate_action(action)\n",
    "            next_state, reward, done, _ = env.step(_action)\n",
    "            scaled_reward = (reward - 24 ) / 5\n",
    "\n",
    "\n",
    "            rewards_history.append([reward, e, time])\n",
    "            action_history.append([_action, e, time])\n",
    "\n",
    "            state = next_state\n",
    "            if done:\n",
    "                #print(\"episode: {}/{}, score: {}, e: {:.2}\".format(e, EPISODES, np.mean(rewards_history), agent.epsilon))\n",
    "                break\n",
    "\n",
    "    df_DQAgent = pd.DataFrame(rewards_history, columns=['rewards', 'episode', 'Q'])\n",
    "    df_DQAgent_action = pd.DataFrame(action_history, columns=['actions', 'episode', 'Q'])\n",
    "    \n",
    "    return df_DQAgent, df_DQAgent_action\n",
    "\n",
    "\n",
    "def get_simulated_mean(df_action):\n",
    "    sim_avg_actions = df_action.drop('episode',axis=1).loc[df_action['actions'] > 0].groupby('Q').mean()\n",
    "\n",
    "    sim_vals = np.zeros(shape=90)\n",
    "    sim_avg_actions\n",
    "    for ix in range(len(sim_vals)):\n",
    "        obs = sim_avg_actions.loc[sim_avg_actions.index == ix]\n",
    "        if len(obs) == 1:\n",
    "\n",
    "            sim_vals[ix] = float(obs['actions'])\n",
    "\n",
    "    return sim_vals\n",
    "\n",
    "def trim_obs(array):\n",
    "    return array[18:61]\n",
    "\n",
    "def calc_loss(true_vals, sim_vals):\n",
    "    return np.mean((true_vals - sim_vals)**2)"
   ]
  },
  {
   "cell_type": "code",
   "execution_count": 161,
   "metadata": {},
   "outputs": [],
   "source": [
    "def objective(x):\n",
    "    print('\\n new iteration')\n",
    "\n",
    "    np.random.seed(10)\n",
    "    \n",
    "    n_episodes = 300\n",
    "    \n",
    "    beta_L = x\n",
    "    parameters = {\n",
    "        'beta_L' : beta_L,\n",
    "        'sigma_epsilon' : 0.1, \n",
    "        'S_min': 120.0,\n",
    "        'alpha': 4.609,\n",
    "        'eta_G': 0.164,\n",
    "        'eta_G_sq' : 0.015,\n",
    "        'delta': 0.209,\n",
    "        'sigma_epsilon': 15.11,\n",
    "        'omega': 3.5,\n",
    "    }\n",
    "    \n",
    "    df, df_action = simulate_observations(parameters, n_episodes)\n",
    "    sim_vals = get_simulated_mean(df_action)\n",
    "    true_vals, sim_vals = trim_obs(women_hours), trim_obs(sim_vals)\n",
    "    mse = calc_loss(true_vals, sim_vals)\n",
    "    print('beta L:', beta_L, ' mse:', mse)\n",
    "    return mse"
   ]
  },
  {
   "cell_type": "code",
   "execution_count": 162,
   "metadata": {},
   "outputs": [
    {
     "name": "stdout",
     "output_type": "stream",
     "text": [
      "\n",
      " new iteration\n",
      "beta L: 0.0  mse: 203.74626976744185\n",
      "\n",
      " new iteration\n",
      "beta L: 0.16326530612244897  mse: 194.8272\n",
      "\n",
      " new iteration\n",
      "beta L: 0.32653061224489793  mse: 190.37696744186047\n",
      "\n",
      " new iteration\n",
      "beta L: 0.4897959183673469  mse: 182.32487441860465\n",
      "\n",
      " new iteration\n",
      "beta L: 0.6530612244897959  mse: 184.71743255813956\n",
      "\n",
      " new iteration\n",
      "beta L: 0.8163265306122448  mse: 184.71743255813956\n",
      "\n",
      " new iteration\n",
      "beta L: 0.9795918367346939  mse: 188.3416186046512\n",
      "\n",
      " new iteration\n",
      "beta L: 1.1428571428571428  mse: 192.7918511627907\n",
      "\n",
      " new iteration\n",
      "beta L: 1.3061224489795917  mse: 206.22068837209304\n",
      "\n",
      " new iteration\n",
      "beta L: 1.4693877551020407  mse: 216.50906046511625\n",
      "\n",
      " new iteration\n",
      "beta L: 1.6326530612244896  mse: 225.614176744186\n",
      "\n",
      " new iteration\n",
      "beta L: 1.7959183673469385  mse: 225.614176744186\n",
      "\n",
      " new iteration\n",
      "beta L: 1.9591836734693877  mse: 214.33045581395348\n",
      "\n",
      " new iteration\n",
      "beta L: 2.1224489795918364  mse: 222.79557209302325\n",
      "\n",
      " new iteration\n",
      "beta L: 2.2857142857142856  mse: 222.81417674418608\n",
      "\n",
      " new iteration\n",
      "beta L: 2.4489795918367343  mse: 222.82347906976742\n",
      "\n",
      " new iteration\n",
      "beta L: 2.6122448979591835  mse: 222.86068837209302\n",
      "\n",
      " new iteration\n",
      "beta L: 2.7755102040816326  mse: 222.55371162790698\n",
      "\n",
      " new iteration\n",
      "beta L: 2.9387755102040813  mse: 225.614176744186\n",
      "\n",
      " new iteration\n",
      "beta L: 3.1020408163265305  mse: 156.6578976744186\n",
      "\n",
      " new iteration\n",
      "beta L: 3.265306122448979  mse: 356.00487441860463\n",
      "\n",
      " new iteration\n",
      "beta L: 3.4285714285714284  mse: 450.05138604651165\n",
      "\n",
      " new iteration\n",
      "beta L: 3.591836734693877  mse: 919.7583627906979\n",
      "\n",
      " new iteration\n",
      "beta L: 3.7551020408163263  mse: 951.386269767442\n",
      "\n",
      " new iteration\n",
      "beta L: 3.9183673469387754  mse: 963.9909209302326\n",
      "\n",
      " new iteration\n",
      "beta L: 4.081632653061225  mse: 974.4560372093024\n",
      "\n",
      " new iteration\n",
      "beta L: 4.244897959183673  mse: 974.4560372093024\n",
      "\n",
      " new iteration\n",
      "beta L: 4.408163265306122  mse: 982.6188279069768\n",
      "\n",
      " new iteration\n",
      "beta L: 4.571428571428571  mse: 982.6188279069768\n",
      "\n",
      " new iteration\n",
      "beta L: 4.73469387755102  mse: 988.4792930232559\n",
      "\n",
      " new iteration\n",
      "beta L: 4.897959183673469  mse: 992.0374325581396\n",
      "\n",
      " new iteration\n",
      "beta L: 5.061224489795918  mse: 993.293246511628\n",
      "\n",
      " new iteration\n",
      "beta L: 5.224489795918367  mse: 993.293246511628\n",
      "\n",
      " new iteration\n",
      "beta L: 5.387755102040816  mse: 993.293246511628\n",
      "\n",
      " new iteration\n",
      "beta L: 5.551020408163265  mse: 993.293246511628\n",
      "\n",
      " new iteration\n",
      "beta L: 5.7142857142857135  mse: 993.293246511628\n",
      "\n",
      " new iteration\n",
      "beta L: 5.877551020408163  mse: 993.293246511628\n",
      "\n",
      " new iteration\n",
      "beta L: 6.040816326530612  mse: 993.293246511628\n",
      "\n",
      " new iteration\n",
      "beta L: 6.204081632653061  mse: 993.293246511628\n",
      "\n",
      " new iteration\n",
      "beta L: 6.367346938775509  mse: 993.293246511628\n",
      "\n",
      " new iteration\n",
      "beta L: 6.530612244897958  mse: 993.293246511628\n",
      "\n",
      " new iteration\n",
      "beta L: 6.693877551020408  mse: 993.293246511628\n",
      "\n",
      " new iteration\n",
      "beta L: 6.857142857142857  mse: 993.293246511628\n",
      "\n",
      " new iteration\n",
      "beta L: 7.020408163265306  mse: 993.293246511628\n",
      "\n",
      " new iteration\n",
      "beta L: 7.183673469387754  mse: 993.293246511628\n",
      "\n",
      " new iteration\n",
      "beta L: 7.346938775510203  mse: 993.293246511628\n",
      "\n",
      " new iteration\n",
      "beta L: 7.5102040816326525  mse: 993.293246511628\n",
      "\n",
      " new iteration\n",
      "beta L: 7.673469387755102  mse: 993.293246511628\n",
      "\n",
      " new iteration\n",
      "beta L: 7.836734693877551  mse: 993.293246511628\n",
      "\n",
      " new iteration\n",
      "beta L: 8.0  mse: 993.293246511628\n"
     ]
    }
   ],
   "source": [
    "beta_Ls, mses = np.linspace(0.0, 8.0), list()\n",
    "\n",
    "for beta_L in beta_Ls:\n",
    "    mse = objective(beta_L)\n",
    "    mses.append(mse)\n"
   ]
  },
  {
   "cell_type": "code",
   "execution_count": 167,
   "metadata": {},
   "outputs": [
    {
     "data": {
      "text/plain": [
       "[<matplotlib.lines.Line2D at 0x143022f90>]"
      ]
     },
     "execution_count": 167,
     "metadata": {},
     "output_type": "execute_result"
    },
    {
     "data": {
      "image/png": "[encoded data removed]",
      "text/plain": [
       "<Figure size 705.6x403.2 with 1 Axes>"
      ]
     },
     "metadata": {
      "needs_background": "light"
     },
     "output_type": "display_data"
    }
   ],
   "source": [
    "f, ax = plt.subplots(1, 1, figsize=FIGSIZE)\n",
    "\n",
    "ax.set_xlabel('beta L')\n",
    "ax.set_ylabel('log(mse)')\n",
    "ax.set_title('Estimation of optimal Beta L value')\n",
    "\n",
    "ax.plot(beta_Ls, np.log(mses))\n",
    "\n",
    "f.savefig"
   ]
  },
  {
   "cell_type": "code",
   "execution_count": null,
   "metadata": {},
   "outputs": [],
   "source": []
  }
 ],
 "metadata": {
  "kernelspec": {
   "display_name": "Python 3 (master thesis)",
   "language": "python",
   "name": "masterthesis"
  },
  "language_info": {
   "codemirror_mode": {
    "name": "ipython",
    "version": 3
   },
   "file_extension": ".py",
   "mimetype": "text/x-python",
   "name": "python",
   "nbconvert_exporter": "python",
   "pygments_lexer": "ipython3",
   "version": "3.7.5"
  }
 },
 "nbformat": 4,
 "nbformat_minor": 4
}
