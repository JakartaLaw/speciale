{
 "cells": [
  {
   "cell_type": "code",
   "execution_count": 135,
   "metadata": {},
   "outputs": [],
   "source": [
    "# handling colab problem\n",
    "import os\n",
    "if not 'data' in os.listdir('..'):\n",
    "    print('needs data folder. imports through git')\n",
    "    !git clone https://github.com/JakartaLaw/speciale.git\n",
    "    print(os.listdir())\n",
    "    os.chdir('speciale//src')"
   ]
  },
  {
   "cell_type": "code",
   "execution_count": 2,
   "metadata": {},
   "outputs": [],
   "source": [
    "from environments import EnvironmentModel1 as Environment\n",
    "from environments import translate_action_model1 as translate_action\n",
    "from environments import reward_scaler_model1 as reward_scaler\n",
    "from environments.model1 import scale_states"
   ]
  },
  {
   "cell_type": "code",
   "execution_count": 34,
   "metadata": {},
   "outputs": [],
   "source": [
    "from tensorflow.keras.models import Sequential\n",
    "from tensorflow.keras.layers import Dense\n",
    "from tensorflow.keras.optimizers import Adam\n",
    "from tensorflow.keras.callbacks import EarlyStopping\n",
    "import numpy as np\n",
    "\n",
    "\n",
    "\n",
    "\n",
    "class MemoryBuffer():\n",
    "    \n",
    "    def __init__(self, action_size, state_size, mem_size=5000, batch_size=1000):\n",
    "        self.mem_size = mem_size\n",
    "        self.mem_cntr = 0\n",
    "        self.batch_size = batch_size\n",
    "        self.action_size = action_size\n",
    "        self.state_size =state_size\n",
    "        \n",
    "        \n",
    "        self.state_memory = np.zeros((self.mem_size, state_size))\n",
    "        self.q_memory = np.zeros((self.mem_size, action_size))\n",
    "        \n",
    "    def store_transition(self, state, q_values):\n",
    "        index = self.mem_cntr % self.mem_size\n",
    "        \n",
    "        self.state_memory[index] = state\n",
    "        self.q_memory[index] = q_values\n",
    "        \n",
    "        self.mem_cntr += 1\n",
    "        \n",
    "    def sample_batch(self):\n",
    "        max_mem = min(self.mem_cntr, self.mem_size)\n",
    "        batch = np.random.choice(max_mem, self.batch_size)\n",
    "\n",
    "        states = self.state_memory[batch]\n",
    "        q_values = self.q_memory[batch]\n",
    "        return states, q_values\n",
    "\n",
    "    \n",
    "def build_network(input_dims, output_dims, fc1_size, fc2_size, lr):\n",
    "    model = Sequential()\n",
    "    model.add(Dense(fc1_size, activation='relu', input_dim=input_dims))\n",
    "    model.add(Dense(fc2_size, activation='relu'))\n",
    "    model.add(Dense(output_dims, activation='linear'))\n",
    "    model.compile(loss='mse', optimizer=Adam(lr=lr))\n",
    "    return model\n",
    "\n",
    "class Agent():\n",
    "\n",
    "    def __init__(self, alpha, gamma, layer1_size, layer2_size, statespace_dims, action_dims):\n",
    "        self.lr = alpha\n",
    "        self.gamma = gamma\n",
    "        self.fc1_size = layer1_size\n",
    "        self.fc2_size = layer2_size\n",
    "        self.q_network = build_network(statespace_dims, action_dims, \n",
    "                                       layer1_size, layer2_size, alpha) \n",
    "        \n",
    "        self.memory_buffer = MemoryBuffer(action_dims, statespace_dims)\n",
    "    \n",
    "    def learn(self, verbose=True):\n",
    "        states, q_vals = self.memory_buffer.sample_batch()\n",
    "        history_ = self.q_network.fit(states, q_vals, epochs=100, validation_split=0.6, \n",
    "                                    callbacks=[EarlyStopping()], verbose=0)\n",
    "        \n",
    "        \n",
    "        n_epochs = history_.epoch[-1] \n",
    "        loss_, val_loss_ = history_.history['loss'][-1], history_.history['val_loss'][-1]\n",
    "        \n",
    "        if verbose:\n",
    "            print(f'# epochs: {n_epochs}, loss: {loss_:.3}, val loss: {val_loss_:.3}')\n",
    "            \n",
    "    def remember(self, state, q_values):\n",
    "        self.memory_buffer.store_transition(state, q_values)\n",
    "        \n",
    "    def act(self, state):\n",
    "        state = state[np.newaxis, :]\n",
    "        q_values = self.q_network.predict(state)\n",
    "        action, q_value = np.argmax(q_values), q_values\n",
    "        return action, q_value\n",
    "        \n",
    "    def predict_q_vals(self, new_states, rewards, done):\n",
    "        rewards = rewards[np.newaxis, :]\n",
    "        \n",
    "        if done:\n",
    "            q_vals = rewards\n",
    "        else:\n",
    "            q_vals_next = self.q_network.predict(new_states)\n",
    "            q_vals_next_star = np.max(q_vals_next, axis=1)\n",
    "            q_vals = rewards + self.gamma * q_vals_next_star\n",
    "\n",
    "        return q_vals\n"
   ]
  },
  {
   "cell_type": "code",
   "execution_count": 93,
   "metadata": {},
   "outputs": [],
   "source": [
    "class StateSpaceSampler():\n",
    "    \n",
    "    def __init__(self):\n",
    "    \n",
    "        self.Q_min = 60\n",
    "        self.Q_max = 60\n",
    "        \n",
    "        self.K_min = 0\n",
    "        self.K_max = 5\n",
    "        \n",
    "        self.G_min = 0.0\n",
    "        self.G_max = 5.0\n",
    "        \n",
    "        self.Z_min = -200.0\n",
    "        self.Z_max = 200.0\n",
    "        \n",
    "        self.beta_K_min = 1.0\n",
    "        self.beta_K_max = 1.01\n",
    "        \n",
    "        self.beta_L_min = 1.0\n",
    "        self.beta_L_max = 1.01\n",
    "        \n",
    "    def draw_state(self):\n",
    "        Q = np.random.randint(self.Q_min, self.Q_max + 1)\n",
    "        K = np.random.randint(self.K_min, self.K_max + 1)\n",
    "        G = np.random.uniform(self.G_min, self.G_max)\n",
    "        Z = np.random.uniform(self.Z_min, self.Z_max)\n",
    "        \n",
    "        beta_K = np.random.uniform(self.beta_K_min, self.beta_K_max)\n",
    "        beta_L = np.random.uniform(self.beta_L_min, self.beta_L_max)\n",
    "        \n",
    "        return (Q, G, K, Z, beta_K, beta_L)\n",
    "        \n",
    "    def expand_pos_states(self):\n",
    "        \"\"\"creates to expand possible states\"\"\"\n",
    "        self.Q_min = self.Q_min - 1\n"
   ]
  },
  {
   "cell_type": "code",
   "execution_count": 94,
   "metadata": {},
   "outputs": [],
   "source": [
    "def transform_state(states):\n",
    "    \"\"\"helper for turning states in to parameters\"\"\"\n",
    "    states_ = states[0:4]\n",
    "    parameters = {\n",
    "        'beta_K': states[4],\n",
    "        'beta_L': states[5]\n",
    "    }\n",
    "    return states_, parameters"
   ]
  },
  {
   "cell_type": "code",
   "execution_count": 95,
   "metadata": {},
   "outputs": [],
   "source": [
    "import pandas as pd\n",
    "parameters = {\n",
    "    'beta_K' : 1,\n",
    "    'beta_L' : 1,\n",
    "    'sigma_epsilon' : 0.1, \n",
    "    'S_min': 120.0,\n",
    "    'alpha': 4.609,\n",
    "    'eta_G': 0.164,\n",
    "    'eta_G_sq' : 0.015,\n",
    "    'delta': 0.209,\n",
    "    'sigma_epsilon': 15.11\n",
    "}"
   ]
  },
  {
   "cell_type": "code",
   "execution_count": 120,
   "metadata": {},
   "outputs": [],
   "source": [
    "env = Environment(**parameters)"
   ]
  },
  {
   "cell_type": "code",
   "execution_count": 121,
   "metadata": {},
   "outputs": [],
   "source": [
    "agent = Agent(0.005, 0.99 ,16, 8, 6, 4)\n",
    "sss = StateSpaceSampler()"
   ]
  },
  {
   "cell_type": "code",
   "execution_count": 122,
   "metadata": {},
   "outputs": [
    {
     "name": "stdout",
     "output_type": "stream",
     "text": [
      "60\n",
      "# epochs: 22, loss: 0.000222, val loss: 0.000245\n"
     ]
    }
   ],
   "source": [
    "ACTIONS = [0, 25, 37, 45]\n",
    "\n",
    "rewards_all = list()\n",
    "while sss.Q_min > 59:\n",
    "    print(sss.Q_min)\n",
    "    for i in range(1000):\n",
    "\n",
    "        # ugly\n",
    "        _states_ = sss.draw_state()\n",
    "        _states, _params = transform_state(_states_)\n",
    "        scaled_state = scale_states(*_states_)\n",
    "        #print(scaled_state)\n",
    "\n",
    "\n",
    "        # ugly\n",
    "        rewards = np.zeros(shape=4)\n",
    "        new_states = np.zeros(shape=(4, 6)) \n",
    "        for ix, action in enumerate(ACTIONS):\n",
    "            env.reset(_states, _params)\n",
    "\n",
    "            new_scaled_state, reward, done, _info = env.step(action)\n",
    "            scaled_reward = reward_scaler(reward, env.beta_K, env.beta_L)\n",
    "            rewards[ix] = scaled_reward\n",
    "            new_states[ix] = new_scaled_state\n",
    "        \n",
    "        rewards_all.append(np.argmax(rewards))\n",
    "        q_vals = agent.predict_q_vals(new_states, rewards, done)\n",
    "        agent.remember(scaled_state, q_vals)\n",
    "\n",
    "    agent.learn()\n",
    "    sss.expand_pos_states()"
   ]
  },
  {
   "cell_type": "code",
   "execution_count": 123,
   "metadata": {},
   "outputs": [
    {
     "data": {
      "text/plain": [
       "(array([ 14.,   0.,   0.,   0.,   0., 156.,   0.,   0.,   0., 830.]),\n",
       " array([1. , 1.2, 1.4, 1.6, 1.8, 2. , 2.2, 2.4, 2.6, 2.8, 3. ]),\n",
       " <a list of 10 Patch objects>)"
      ]
     },
     "execution_count": 123,
     "metadata": {},
     "output_type": "execute_result"
    },
    {
     "data": {
      "image/png": "[encoded data removed]",
      "text/plain": [
       "<Figure size 432x288 with 1 Axes>"
      ]
     },
     "metadata": {
      "needs_background": "light"
     },
     "output_type": "display_data"
    }
   ],
   "source": [
    "plt.hist(rewards_all)"
   ]
  },
  {
   "cell_type": "code",
   "execution_count": 124,
   "metadata": {},
   "outputs": [],
   "source": [
    "parameters = {\n",
    "    'beta_K' : 1,\n",
    "    'beta_L' : 1,\n",
    "    'sigma_epsilon' : 0.1, \n",
    "    'S_min': 120.0,\n",
    "    'alpha': 4.609,\n",
    "    'eta_G': 0.164,\n",
    "    'eta_G_sq' : 0.015,\n",
    "    'delta': 0.209,\n",
    "    'sigma_epsilon': 15.11\n",
    "}\n",
    "env = Environment(**parameters)"
   ]
  },
  {
   "cell_type": "code",
   "execution_count": 125,
   "metadata": {},
   "outputs": [],
   "source": [
    "state = env.states\n",
    "action, q_vals = agent.act(state)"
   ]
  },
  {
   "cell_type": "code",
   "execution_count": 126,
   "metadata": {},
   "outputs": [
    {
     "data": {
      "text/plain": [
       "array([[-0.44142315, -0.32851636, -0.20626801, -0.47249073]],\n",
       "      dtype=float32)"
      ]
     },
     "execution_count": 126,
     "metadata": {},
     "output_type": "execute_result"
    }
   ],
   "source": [
    "q_vals"
   ]
  },
  {
   "cell_type": "code",
   "execution_count": 127,
   "metadata": {},
   "outputs": [
    {
     "name": "stdout",
     "output_type": "stream",
     "text": [
      "0\n",
      "1\n",
      "2\n",
      "3\n",
      "4\n",
      "5\n",
      "6\n",
      "7\n",
      "8\n",
      "9\n",
      "10\n",
      "11\n",
      "12\n",
      "13\n",
      "14\n",
      "15\n",
      "16\n",
      "17\n",
      "18\n",
      "19\n",
      "20\n",
      "21\n",
      "22\n",
      "23\n",
      "24\n",
      "25\n",
      "26\n",
      "27\n",
      "28\n",
      "29\n",
      "30\n",
      "31\n",
      "32\n",
      "33\n",
      "34\n",
      "35\n",
      "36\n",
      "37\n",
      "38\n",
      "39\n",
      "40\n",
      "41\n",
      "42\n",
      "43\n",
      "44\n",
      "45\n",
      "46\n",
      "47\n",
      "48\n",
      "49\n"
     ]
    }
   ],
   "source": [
    "rewards_history, action_history = list(), list()\n",
    "EPISODES = 50\n",
    "agent.epsilon=0.0\n",
    "\n",
    "for e in range(EPISODES):\n",
    "    env.reset()\n",
    "    state = env.states\n",
    "    print(e)\n",
    "    for time in range(18, 500):\n",
    "        action, q_vals = agent.act(state)\n",
    "        _action = translate_action(action)\n",
    "        next_state, reward, done, _ = env.step(_action)\n",
    "        scaled_reward = (reward - 24 ) / 5\n",
    "\n",
    "        \n",
    "        rewards_history.append([reward, e, time])\n",
    "        action_history.append([_action, e, time])\n",
    "        \n",
    "        state = next_state\n",
    "        if done:\n",
    "            #print(\"episode: {}/{}, score: {}, e: {:.2}\".format(e, EPISODES, np.mean(rewards_history), agent.epsilon))\n",
    "            break\n",
    "\n",
    "df_DQAgent = pd.DataFrame(rewards_history, columns=['rewards', 'episode', 'Q'])\n",
    "df_DQAgent_action = pd.DataFrame(action_history, columns=['actions', 'episode', 'Q'])"
   ]
  },
  {
   "cell_type": "code",
   "execution_count": 128,
   "metadata": {},
   "outputs": [],
   "source": [
    "def random_action():\n",
    "    act = np.random.randint(0, 4)\n",
    "    return [0, 25, 37, 45][act]\n"
   ]
  },
  {
   "cell_type": "code",
   "execution_count": 129,
   "metadata": {},
   "outputs": [],
   "source": [
    "rewards_history, action_history = list(), list()\n",
    "EPISODES = 150\n",
    "for e in range(EPISODES):\n",
    "    env.reset()\n",
    "    state = env.states\n",
    "    for time in range(18, 500):\n",
    "        _action = random_action()\n",
    "        next_state, reward, done, _ = env.step(_action)\n",
    "\n",
    "        \n",
    "        rewards_history.append([reward, e, time])\n",
    "        action_history.append([_action, e, time])\n",
    "        \n",
    "        state = next_state\n",
    "        if done:\n",
    "            break\n",
    "            \n",
    "df_random_agent = pd.DataFrame(rewards_history, columns=['rewards', 'episode', 'Q'])"
   ]
  },
  {
   "cell_type": "code",
   "execution_count": 130,
   "metadata": {},
   "outputs": [],
   "source": [
    "rewards_history, action_history = list(), list()\n",
    "EPISODES = 150\n",
    "for e in range(EPISODES):\n",
    "    env.reset()\n",
    "    state = env.states\n",
    "    for time in range(18, 500):\n",
    "        _action = 0\n",
    "        next_state, reward, done, _ = env.step(_action)\n",
    "\n",
    "        \n",
    "        rewards_history.append([reward, e, time])\n",
    "        action_history.append([_action, e, time])\n",
    "        \n",
    "        state = next_state\n",
    "        if done:\n",
    "            break\n",
    "\n",
    "df_0_agent = pd.DataFrame(rewards_history, columns=['rewards', 'episode', 'Q'])"
   ]
  },
  {
   "cell_type": "code",
   "execution_count": 131,
   "metadata": {},
   "outputs": [],
   "source": [
    "rewards_history, action_history = list(), list()\n",
    "EPISODES = 150\n",
    "for e in range(EPISODES):\n",
    "    env.reset()\n",
    "    state = env.states\n",
    "    for time in range(18, 500):\n",
    "        _action = 37\n",
    "        next_state, reward, done, _ = env.step(_action)\n",
    "\n",
    "        \n",
    "        rewards_history.append([reward, e, time])\n",
    "        action_history.append([_action, e, time])\n",
    "        \n",
    "        state = next_state\n",
    "        if done:\n",
    "            break\n",
    "\n",
    "df_37_agent = pd.DataFrame(rewards_history, columns=['rewards', 'episode', 'Q'])"
   ]
  },
  {
   "cell_type": "code",
   "execution_count": 132,
   "metadata": {},
   "outputs": [],
   "source": [
    "rewards_history, action_history = list(), list()\n",
    "EPISODES = 150\n",
    "for e in range(EPISODES):\n",
    "    env.reset()\n",
    "    state = env.states\n",
    "    for time in range(18, 500):\n",
    "        _action = 45\n",
    "        next_state, reward, done, _ = env.step(_action)\n",
    "\n",
    "        \n",
    "        rewards_history.append([reward, e, time])\n",
    "        action_history.append([_action, e, time])\n",
    "        \n",
    "        state = next_state\n",
    "        if done:\n",
    "            break\n",
    "\n",
    "df_45_agent = pd.DataFrame(rewards_history, columns=['rewards', 'episode', 'Q'])"
   ]
  },
  {
   "cell_type": "code",
   "execution_count": 133,
   "metadata": {},
   "outputs": [
    {
     "data": {
      "text/plain": [
       "<matplotlib.legend.Legend at 0x138ef3710>"
      ]
     },
     "execution_count": 133,
     "metadata": {},
     "output_type": "execute_result"
    },
    {
     "data": {
      "image/png": "[encoded data removed]",
      "text/plain": [
       "<Figure size 432x288 with 1 Axes>"
      ]
     },
     "metadata": {
      "needs_background": "light"
     },
     "output_type": "display_data"
    }
   ],
   "source": [
    "import matplotlib.pyplot as plt\n",
    "#plt.plot(df_random_agent.drop('episode', axis=1).groupby('Q').mean(), label='Random Agent')\n",
    "plt.plot(df_DQAgent.drop('episode', axis=1).groupby('Q').mean(), label='DQ Agent')\n",
    "plt.plot(df_37_agent.drop('episode', axis=1).groupby('Q').mean(), label='37 hour Agent')\n",
    "plt.plot(df_45_agent.drop('episode', axis=1).groupby('Q').mean(), label='45 hour Agent')\n",
    "plt.plot(df_random_agent.drop('episode', axis=1).groupby('Q').mean(), label='random Agent')\n",
    "\n",
    "\n",
    "plt.legend()"
   ]
  },
  {
   "cell_type": "code",
   "execution_count": 134,
   "metadata": {},
   "outputs": [
    {
     "data": {
      "text/plain": [
       "[<matplotlib.lines.Line2D at 0x1395f71d0>]"
      ]
     },
     "execution_count": 134,
     "metadata": {},
     "output_type": "execute_result"
    },
    {
     "data": {
      "image/png": "[encoded data removed]",
      "text/plain": [
       "<Figure size 432x288 with 1 Axes>"
      ]
     },
     "metadata": {
      "needs_background": "light"
     },
     "output_type": "display_data"
    }
   ],
   "source": [
    "plt.plot(df_DQAgent_action.drop('episode', axis=1).groupby('Q').mean())"
   ]
  },
  {
   "cell_type": "code",
   "execution_count": null,
   "metadata": {},
   "outputs": [],
   "source": []
  }
 ],
 "metadata": {
  "kernelspec": {
   "display_name": "Python 3 (master thesis)",
   "language": "python",
   "name": "masterthesis"
  },
  "language_info": {
   "codemirror_mode": {
    "name": "ipython",
    "version": 3
   },
   "file_extension": ".py",
   "mimetype": "text/x-python",
   "name": "python",
   "nbconvert_exporter": "python",
   "pygments_lexer": "ipython3",
   "version": "3.7.5"
  }
 },
 "nbformat": 4,
 "nbformat_minor": 2
}
