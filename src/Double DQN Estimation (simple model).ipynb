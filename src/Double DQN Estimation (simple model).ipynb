{
 "cells": [
  {
   "cell_type": "code",
   "execution_count": 1,
   "metadata": {},
   "outputs": [],
   "source": [
    "import pandas as pd\n",
    "import matplotlib.pyplot as plt\n",
    "import numpy as np\n",
    "import pickle"
   ]
  },
  {
   "cell_type": "code",
   "execution_count": 2,
   "metadata": {},
   "outputs": [],
   "source": [
    "# handling colab problem\n",
    "import os\n",
    "if not 'data' in os.listdir('..'):\n",
    "    print('needs data folder. imports through git')\n",
    "    !git clone https://github.com/JakartaLaw/speciale.git\n",
    "    print(os.listdir())\n",
    "    os.chdir('speciale//src')"
   ]
  },
  {
   "cell_type": "code",
   "execution_count": 3,
   "metadata": {},
   "outputs": [],
   "source": [
    "np.random.seed(42)"
   ]
  },
  {
   "cell_type": "code",
   "execution_count": 4,
   "metadata": {},
   "outputs": [],
   "source": [
    "from environments import EnvironmentModel1 as Environment\n",
    "from environments import translate_action_model1 as translate_action\n",
    "from environments import reward_scaler_model1 as reward_scaler\n",
    "from environments import STATES_MU1, STATES_SIGMA1\n",
    "from environments.model1 import scale_states"
   ]
  },
  {
   "cell_type": "code",
   "execution_count": 5,
   "metadata": {},
   "outputs": [
    {
     "name": "stderr",
     "output_type": "stream",
     "text": [
      "Using TensorFlow backend.\n"
     ]
    }
   ],
   "source": [
    "from agents.new_doubledqnagent import DDQNAgent as Agent"
   ]
  },
  {
   "cell_type": "code",
   "execution_count": 6,
   "metadata": {},
   "outputs": [],
   "source": [
    "lr = 0.0005\n",
    "agent = Agent(gamma=0.99, epsilon=0.0, alpha=lr, input_dims=5,\n",
    "              n_actions=4, mem_size=1000000, batch_size=64, epsilon_dec=0.9999,\n",
    "              epsilon_end=0.01, state_scaler_mu = STATES_MU1,\n",
    "              state_scaler_sigma = STATES_SIGMA1)"
   ]
  },
  {
   "cell_type": "code",
   "execution_count": null,
   "metadata": {},
   "outputs": [],
   "source": []
  },
  {
   "cell_type": "code",
   "execution_count": 7,
   "metadata": {},
   "outputs": [],
   "source": [
    "size_multiplier = 0.7\n",
    "FIGSIZE = (14*size_multiplier, 8*size_multiplier)"
   ]
  },
  {
   "cell_type": "code",
   "execution_count": 8,
   "metadata": {},
   "outputs": [],
   "source": [
    "agent = Agent(0.005, 0.99 ,16, 8, 5, 4, STATES_MU1, STATES_SIGMA1)"
   ]
  },
  {
   "cell_type": "code",
   "execution_count": 9,
   "metadata": {},
   "outputs": [],
   "source": [
    "agent.load_model(\"models//ddqn_model\")"
   ]
  },
  {
   "cell_type": "code",
   "execution_count": 10,
   "metadata": {},
   "outputs": [],
   "source": [
    "with open('..//data//women_hours_empirical', 'rb') as f:\n",
    "    women_hours = pickle.load(f)"
   ]
  },
  {
   "cell_type": "code",
   "execution_count": 11,
   "metadata": {},
   "outputs": [
    {
     "data": {
      "text/plain": [
       "[<matplotlib.lines.Line2D at 0x140382090>]"
      ]
     },
     "execution_count": 11,
     "metadata": {},
     "output_type": "execute_result"
    },
    {
     "data": {
      "image/png": "[encoded data removed]",
      "text/plain": [
       "<Figure size 432x288 with 1 Axes>"
      ]
     },
     "metadata": {
      "needs_background": "light"
     },
     "output_type": "display_data"
    }
   ],
   "source": [
    "plt.plot(women_hours)"
   ]
  },
  {
   "cell_type": "code",
   "execution_count": 12,
   "metadata": {},
   "outputs": [],
   "source": [
    "parameters = {\n",
    "    'beta_L' : 3,\n",
    "    'sigma_epsilon' : 0.1, \n",
    "    'S_min': 120.0,\n",
    "    'alpha': 4.609,\n",
    "    'eta_G': 0.164,\n",
    "    'eta_G_sq' : 0.015,\n",
    "    'delta': 0.209,\n",
    "    'sigma_epsilon': 15.11,\n",
    "    'omega': 3.5,\n",
    "}\n",
    "\n"
   ]
  },
  {
   "cell_type": "code",
   "execution_count": 13,
   "metadata": {},
   "outputs": [],
   "source": [
    "def simulate_observations(parameters, n_episodes):\n",
    "\n",
    "    env = Environment(**parameters)\n",
    "\n",
    "    rewards_history, action_history, states_history = list(), list(), list()\n",
    "    agent.epsilon=0.0\n",
    "\n",
    "\n",
    "    for e in range(n_episodes):\n",
    "        env.reset()\n",
    "        state = env.states\n",
    "        for time in range(18, 500):\n",
    "            action = agent.choose_action(state)\n",
    "            _action = translate_action(action)\n",
    "            next_state, reward, done, _ = env.step(_action)\n",
    "            scaled_reward = (reward - 24 ) / 5\n",
    "\n",
    "            rewards_history.append([reward, e, time])\n",
    "            action_history.append([_action, e, time])\n",
    "            states_history.append(np.append(state, [e, time, _action]))\n",
    "            \n",
    "            state = next_state\n",
    "            if done:\n",
    "                #print(\"episode: {}/{}, score: {}, e: {:.2}\".format(e, EPISODES, np.mean(rewards_history), agent.epsilon))\n",
    "                break\n",
    "\n",
    "    df_DQAgent = pd.DataFrame(rewards_history, columns=['rewards', 'episode', 'Q'])\n",
    "    df_DQAgent_action = pd.DataFrame(action_history, columns=['actions', 'episode', 'Q'])\n",
    "    \n",
    "    states_cols = ['Q', 'G', 'K', 'Z', 'beta_L', 'episode', 'time', 'action']\n",
    "    df_DQAgent_states = pd.DataFrame(states_history, columns=states_cols)\n",
    "    \n",
    "    \n",
    "    return df_DQAgent, df_DQAgent_action, df_DQAgent_states\n",
    "\n",
    "\n",
    "def get_simulated_mean(df_action):\n",
    "    sim_avg_actions = df_action.drop('episode',axis=1).loc[df_action['actions'] > 0].groupby('Q').mean()\n",
    "\n",
    "    sim_vals = np.zeros(shape=90)\n",
    "    sim_avg_actions\n",
    "    for ix in range(len(sim_vals)):\n",
    "        obs = sim_avg_actions.loc[sim_avg_actions.index == ix]\n",
    "        if len(obs) == 1:\n",
    "\n",
    "            sim_vals[ix] = float(obs['actions'])\n",
    "\n",
    "    return sim_vals\n",
    "\n",
    "def trim_obs(array):\n",
    "    return array[18:61]\n",
    "\n",
    "def calc_loss(true_vals, sim_vals):\n",
    "    return np.mean((true_vals - sim_vals)**2)"
   ]
  },
  {
   "cell_type": "code",
   "execution_count": 14,
   "metadata": {},
   "outputs": [],
   "source": [
    "def objective(x):\n",
    "    print('\\n new iteration')\n",
    "\n",
    "    np.random.seed(10)\n",
    "    \n",
    "    n_episodes = 300\n",
    "    \n",
    "    beta_L = x\n",
    "    parameters = {\n",
    "        'beta_L' : beta_L,\n",
    "        'sigma_epsilon' : 0.1, \n",
    "        'S_min': 120.0,\n",
    "        'alpha': 4.609,\n",
    "        'eta_G': 0.164,\n",
    "        'eta_G_sq' : 0.015,\n",
    "        'delta': 0.209,\n",
    "        'sigma_epsilon': 15.11,\n",
    "        'omega': 3.5,\n",
    "    }\n",
    "    \n",
    "    df, df_action, df_states = simulate_observations(parameters, n_episodes)\n",
    "    sim_vals = get_simulated_mean(df_action)\n",
    "    true_vals, sim_vals = trim_obs(women_hours), trim_obs(sim_vals)\n",
    "    mse = calc_loss(true_vals, sim_vals)\n",
    "    print('beta L:', beta_L, ' mse:', mse)\n",
    "    return mse"
   ]
  },
  {
   "cell_type": "code",
   "execution_count": 15,
   "metadata": {},
   "outputs": [
    {
     "name": "stdout",
     "output_type": "stream",
     "text": [
      "\n",
      " new iteration\n",
      "beta L: 0.0  mse: 191.3971142118863\n",
      "\n",
      " new iteration\n",
      "beta L: 0.16326530612244897  mse: 203.66666666666666\n",
      "\n",
      " new iteration\n",
      "beta L: 0.32653061224489793  mse: 210.3261064599483\n",
      "\n",
      " new iteration\n",
      "beta L: 0.4897959183673469  mse: 214.47851576227393\n",
      "\n",
      " new iteration\n",
      "beta L: 0.6530612244897959  mse: 215.647780878553\n",
      "\n",
      " new iteration\n",
      "beta L: 0.8163265306122448  mse: 215.17127855297164\n",
      "\n",
      " new iteration\n",
      "beta L: 0.9795918367346939  mse: 214.38710490956075\n",
      "\n",
      " new iteration\n",
      "beta L: 1.1428571428571428  mse: 213.5006139534884\n",
      "\n",
      " new iteration\n",
      "beta L: 1.3061224489795917  mse: 212.3183751937985\n",
      "\n",
      " new iteration\n",
      "beta L: 1.4693877551020407  mse: 210.6388472947319\n",
      "\n",
      " new iteration\n",
      "beta L: 1.6326530612244896  mse: 208.2039758082261\n",
      "\n",
      " new iteration\n",
      "beta L: 1.7959183673469385  mse: 205.4484397399892\n",
      "\n",
      " new iteration\n",
      "beta L: 1.9591836734693877  mse: 201.90715334596283\n",
      "\n",
      " new iteration\n",
      "beta L: 2.1224489795918364  mse: 198.43594396351185\n",
      "\n",
      " new iteration\n",
      "beta L: 2.2857142857142856  mse: 195.0127935503144\n",
      "\n",
      " new iteration\n",
      "beta L: 2.4489795918367343  mse: 192.02369151098208\n",
      "\n",
      " new iteration\n",
      "beta L: 2.6122448979591835  mse: 189.17126537406102\n",
      "\n",
      " new iteration\n",
      "beta L: 2.7755102040816326  mse: 184.84498135553338\n",
      "\n",
      " new iteration\n",
      "beta L: 2.9387755102040813  mse: 179.9136906029044\n",
      "\n",
      " new iteration\n",
      "beta L: 3.1020408163265305  mse: 172.26820890296796\n",
      "\n",
      " new iteration\n",
      "beta L: 3.265306122448979  mse: 158.93929569425765\n",
      "\n",
      " new iteration\n",
      "beta L: 3.4285714285714284  mse: 146.29130035830073\n",
      "\n",
      " new iteration\n",
      "beta L: 3.591836734693877  mse: 135.57180333401257\n",
      "\n",
      " new iteration\n",
      "beta L: 3.7551020408163263  mse: 652.4759277399874\n",
      "\n",
      " new iteration\n",
      "beta L: 3.9183673469387754  mse: 716.3964849387623\n",
      "\n",
      " new iteration\n",
      "beta L: 4.081632653061225  mse: 744.6419220128602\n",
      "\n",
      " new iteration\n",
      "beta L: 4.244897959183673  mse: 761.1667786880457\n",
      "\n",
      " new iteration\n",
      "beta L: 4.408163265306122  mse: 804.5606638622804\n",
      "\n",
      " new iteration\n",
      "beta L: 4.571428571428571  mse: 831.8465281653749\n",
      "\n",
      " new iteration\n",
      "beta L: 4.73469387755102  mse: 851.145339534884\n",
      "\n",
      " new iteration\n",
      "beta L: 4.897959183673469  mse: 909.3806883720931\n",
      "\n",
      " new iteration\n",
      "beta L: 5.061224489795918  mse: 877.4523162790699\n",
      "\n",
      " new iteration\n",
      "beta L: 5.224489795918367  mse: 833.5378976744186\n",
      "\n",
      " new iteration\n",
      "beta L: 5.387755102040816  mse: 859.3472\n",
      "\n",
      " new iteration\n",
      "beta L: 5.551020408163265  mse: 921.6746418604653\n",
      "\n",
      " new iteration\n",
      "beta L: 5.7142857142857135  mse: 966.5844093023256\n",
      "\n",
      " new iteration\n",
      "beta L: 5.877551020408163  mse: 993.293246511628\n",
      "\n",
      " new iteration\n",
      "beta L: 6.040816326530612  mse: 993.293246511628\n",
      "\n",
      " new iteration\n",
      "beta L: 6.204081632653061  mse: 993.293246511628\n",
      "\n",
      " new iteration\n",
      "beta L: 6.367346938775509  mse: 993.293246511628\n",
      "\n",
      " new iteration\n",
      "beta L: 6.530612244897958  mse: 993.293246511628\n",
      "\n",
      " new iteration\n",
      "beta L: 6.693877551020408  mse: 993.293246511628\n",
      "\n",
      " new iteration\n",
      "beta L: 6.857142857142857  mse: 993.293246511628\n",
      "\n",
      " new iteration\n",
      "beta L: 7.020408163265306  mse: 993.293246511628\n",
      "\n",
      " new iteration\n",
      "beta L: 7.183673469387754  mse: 993.293246511628\n",
      "\n",
      " new iteration\n",
      "beta L: 7.346938775510203  mse: 993.293246511628\n",
      "\n",
      " new iteration\n",
      "beta L: 7.5102040816326525  mse: 993.293246511628\n",
      "\n",
      " new iteration\n",
      "beta L: 7.673469387755102  mse: 993.293246511628\n",
      "\n",
      " new iteration\n",
      "beta L: 7.836734693877551  mse: 993.293246511628\n",
      "\n",
      " new iteration\n",
      "beta L: 8.0  mse: 993.293246511628\n"
     ]
    }
   ],
   "source": [
    "beta_Ls, mses = np.linspace(0.0, 8.0), list()\n",
    "\n",
    "for beta_L in beta_Ls:\n",
    "    mse = objective(beta_L)\n",
    "    mses.append(mse)\n"
   ]
  },
  {
   "cell_type": "code",
   "execution_count": 16,
   "metadata": {},
   "outputs": [
    {
     "data": {
      "image/png": "[encoded data removed]",
      "text/plain": [
       "<Figure size 705.6x403.2 with 1 Axes>"
      ]
     },
     "metadata": {
      "needs_background": "light"
     },
     "output_type": "display_data"
    }
   ],
   "source": [
    "f, ax = plt.subplots(1, 1, figsize=FIGSIZE)\n",
    "\n",
    "ax.set_xlabel('beta L')\n",
    "ax.set_ylabel('log(mse)')\n",
    "ax.set_title('Estimation of optimal Beta L value (Double DQN)')\n",
    "\n",
    "ax.plot(beta_Ls, np.log(mses))\n",
    "\n",
    "f.savefig('..//figures//ddqn_model1_estimation_Beta_L.png')"
   ]
  },
  {
   "cell_type": "code",
   "execution_count": 18,
   "metadata": {},
   "outputs": [
    {
     "name": "stdout",
     "output_type": "stream",
     "text": [
      "min value of Beta L 3.59\n"
     ]
    }
   ],
   "source": [
    "print(f'min value of Beta L {beta_Ls[np.argmin(mses)]:.2f}')"
   ]
  },
  {
   "cell_type": "code",
   "execution_count": null,
   "metadata": {},
   "outputs": [],
   "source": []
  }
 ],
 "metadata": {
  "kernelspec": {
   "display_name": "Python 3 (master thesis)",
   "language": "python",
   "name": "masterthesis"
  },
  "language_info": {
   "codemirror_mode": {
    "name": "ipython",
    "version": 3
   },
   "file_extension": ".py",
   "mimetype": "text/x-python",
   "name": "python",
   "nbconvert_exporter": "python",
   "pygments_lexer": "ipython3",
   "version": "3.7.5"
  }
 },
 "nbformat": 4,
 "nbformat_minor": 4
}
