{
 "cells": [
  {
   "cell_type": "code",
   "execution_count": 1,
   "metadata": {},
   "outputs": [],
   "source": [
    "import pandas as pd\n",
    "import matplotlib.pyplot as plt\n",
    "import numpy as np\n",
    "import pickle"
   ]
  },
  {
   "cell_type": "code",
   "execution_count": 2,
   "metadata": {},
   "outputs": [],
   "source": [
    "# handling colab problem\n",
    "import os\n",
    "if not 'data' in os.listdir('..'):\n",
    "    print('needs data folder. imports through git')\n",
    "    !git clone https://github.com/JakartaLaw/speciale.git\n",
    "    print(os.listdir())\n",
    "    os.chdir('speciale//src')"
   ]
  },
  {
   "cell_type": "code",
   "execution_count": 3,
   "metadata": {},
   "outputs": [],
   "source": [
    "np.random.seed(42)"
   ]
  },
  {
   "cell_type": "code",
   "execution_count": 4,
   "metadata": {},
   "outputs": [],
   "source": [
    "from environments import EnvironmentModel1 as Environment\n",
    "from environments import translate_action_model1 as translate_action\n",
    "from environments import reward_scaler_model1 as reward_scaler\n",
    "from environments import STATES_MU1, STATES_SIGMA1\n",
    "from environments.model1 import scale_states"
   ]
  },
  {
   "cell_type": "code",
   "execution_count": 5,
   "metadata": {},
   "outputs": [
    {
     "name": "stderr",
     "output_type": "stream",
     "text": [
      "Using TensorFlow backend.\n"
     ]
    }
   ],
   "source": [
    "from agents.new_dqnagent import Agent"
   ]
  },
  {
   "cell_type": "code",
   "execution_count": 6,
   "metadata": {},
   "outputs": [],
   "source": [
    "lr = 0.0005\n",
    "agent = Agent(gamma=0.99, epsilon=0.0, alpha=lr, input_dims=5,\n",
    "              n_actions=4, mem_size=1000000, batch_size=64, epsilon_dec=0.9999,\n",
    "              epsilon_end=0.01, state_scaler_mu = STATES_MU1,\n",
    "              state_scaler_sigma = STATES_SIGMA1)"
   ]
  },
  {
   "cell_type": "code",
   "execution_count": 7,
   "metadata": {},
   "outputs": [],
   "source": [
    "size_multiplier = 0.7\n",
    "FIGSIZE = (14*size_multiplier, 8*size_multiplier)"
   ]
  },
  {
   "cell_type": "code",
   "execution_count": 8,
   "metadata": {},
   "outputs": [],
   "source": [
    "agent = Agent(0.005, 0.99 ,16, 8, 5, 4, STATES_MU1, STATES_SIGMA1)"
   ]
  },
  {
   "cell_type": "code",
   "execution_count": 9,
   "metadata": {},
   "outputs": [],
   "source": [
    "agent.load_model(\"models//dqn_model\")"
   ]
  },
  {
   "cell_type": "code",
   "execution_count": 10,
   "metadata": {},
   "outputs": [],
   "source": [
    "with open('..//data//women_hours_empirical', 'rb') as f:\n",
    "    women_hours = pickle.load(f)"
   ]
  },
  {
   "cell_type": "code",
   "execution_count": 11,
   "metadata": {},
   "outputs": [
    {
     "data": {
      "text/plain": [
       "[<matplotlib.lines.Line2D at 0x1438a2c90>]"
      ]
     },
     "execution_count": 11,
     "metadata": {},
     "output_type": "execute_result"
    },
    {
     "data": {
      "image/png": "[encoded data removed]",
      "text/plain": [
       "<Figure size 432x288 with 1 Axes>"
      ]
     },
     "metadata": {
      "needs_background": "light"
     },
     "output_type": "display_data"
    }
   ],
   "source": [
    "plt.plot(women_hours)"
   ]
  },
  {
   "cell_type": "code",
   "execution_count": 12,
   "metadata": {},
   "outputs": [],
   "source": [
    "parameters = {\n",
    "    'beta_L' : 3,\n",
    "    'sigma_epsilon' : 0.1, \n",
    "    'S_min': 120.0,\n",
    "    'alpha': 4.609,\n",
    "    'eta_G': 0.164,\n",
    "    'eta_G_sq' : 0.015,\n",
    "    'delta': 0.209,\n",
    "    'sigma_epsilon': 15.11,\n",
    "    'omega': 3.5,\n",
    "}\n",
    "\n",
    "EPISODES = 150"
   ]
  },
  {
   "cell_type": "code",
   "execution_count": 13,
   "metadata": {},
   "outputs": [],
   "source": [
    "def simulate_observations(parameters, n_episodes):\n",
    "\n",
    "    env = Environment(**parameters)\n",
    "\n",
    "    rewards_history, action_history, states_history = list(), list(), list()\n",
    "    agent.epsilon=0.0\n",
    "\n",
    "\n",
    "    for e in range(n_episodes):\n",
    "        env.reset()\n",
    "        state = env.states\n",
    "        for time in range(18, 500):\n",
    "            action = agent.choose_action(state)\n",
    "            _action = translate_action(action)\n",
    "            next_state, reward, done, _ = env.step(_action)\n",
    "            scaled_reward = (reward - 24 ) / 5\n",
    "\n",
    "            rewards_history.append([reward, e, time])\n",
    "            action_history.append([_action, e, time])\n",
    "            states_history.append(np.append(state, [e, time, _action]))\n",
    "            \n",
    "            state = next_state\n",
    "            if done:\n",
    "                #print(\"episode: {}/{}, score: {}, e: {:.2}\".format(e, EPISODES, np.mean(rewards_history), agent.epsilon))\n",
    "                break\n",
    "\n",
    "    df_DQAgent = pd.DataFrame(rewards_history, columns=['rewards', 'episode', 'Q'])\n",
    "    df_DQAgent_action = pd.DataFrame(action_history, columns=['actions', 'episode', 'Q'])\n",
    "    \n",
    "    states_cols = ['Q', 'G', 'K', 'Z', 'beta_L', 'episode', 'time', 'action']\n",
    "    df_DQAgent_states = pd.DataFrame(states_history, columns=states_cols)\n",
    "    \n",
    "    \n",
    "    return df_DQAgent, df_DQAgent_action, df_DQAgent_states\n",
    "\n",
    "\n",
    "def get_simulated_mean(df_action):\n",
    "    sim_avg_actions = df_action.drop('episode',axis=1).loc[df_action['actions'] > 0].groupby('Q').mean()\n",
    "\n",
    "    sim_vals = np.zeros(shape=90)\n",
    "    sim_avg_actions\n",
    "    for ix in range(len(sim_vals)):\n",
    "        obs = sim_avg_actions.loc[sim_avg_actions.index == ix]\n",
    "        if len(obs) == 1:\n",
    "\n",
    "            sim_vals[ix] = float(obs['actions'])\n",
    "\n",
    "    return sim_vals\n",
    "\n",
    "def trim_obs(array):\n",
    "    return array[18:61]\n",
    "\n",
    "def calc_loss(true_vals, sim_vals):\n",
    "    return np.mean((true_vals - sim_vals)**2)"
   ]
  },
  {
   "cell_type": "code",
   "execution_count": 14,
   "metadata": {},
   "outputs": [],
   "source": [
    "def objective(x):\n",
    "    print('\\n new iteration')\n",
    "\n",
    "    np.random.seed(10)\n",
    "    \n",
    "    n_episodes = 300\n",
    "    \n",
    "    beta_L = x\n",
    "    parameters = {\n",
    "        'beta_L' : beta_L,\n",
    "        'sigma_epsilon' : 0.1, \n",
    "        'S_min': 120.0,\n",
    "        'alpha': 4.609,\n",
    "        'eta_G': 0.164,\n",
    "        'eta_G_sq' : 0.015,\n",
    "        'delta': 0.209,\n",
    "        'sigma_epsilon': 15.11,\n",
    "        'omega': 3.5,\n",
    "    }\n",
    "    \n",
    "    df, df_action, df_states = simulate_observations(parameters, n_episodes)\n",
    "    sim_vals = get_simulated_mean(df_action)\n",
    "    true_vals, sim_vals = trim_obs(women_hours), trim_obs(sim_vals)\n",
    "    mse = calc_loss(true_vals, sim_vals)\n",
    "    print('beta L:', beta_L, ' mse:', mse)\n",
    "    return mse"
   ]
  },
  {
   "cell_type": "code",
   "execution_count": 15,
   "metadata": {},
   "outputs": [
    {
     "name": "stdout",
     "output_type": "stream",
     "text": [
      "\n",
      " new iteration\n",
      "beta L: 0.0  mse: 225.45319276485793\n",
      "\n",
      " new iteration\n",
      "beta L: 0.16326530612244897  mse: 225.3923679586564\n",
      "\n",
      " new iteration\n",
      "beta L: 0.32653061224489793  mse: 225.15553488372095\n",
      "\n",
      " new iteration\n",
      "beta L: 0.4897959183673469  mse: 224.7784310077519\n",
      "\n",
      " new iteration\n",
      "beta L: 0.6530612244897959  mse: 224.5468403100775\n",
      "\n",
      " new iteration\n",
      "beta L: 0.8163265306122448  mse: 223.89799276485792\n",
      "\n",
      " new iteration\n",
      "beta L: 0.9795918367346939  mse: 223.2644589147287\n",
      "\n",
      " new iteration\n",
      "beta L: 1.1428571428571428  mse: 222.1826439276486\n",
      "\n",
      " new iteration\n",
      "beta L: 1.3061224489795917  mse: 220.53492506459952\n",
      "\n",
      " new iteration\n",
      "beta L: 1.4693877551020407  mse: 218.28934366925068\n",
      "\n",
      " new iteration\n",
      "beta L: 1.6326530612244896  mse: 216.07258708010338\n",
      "\n",
      " new iteration\n",
      "beta L: 1.7959183673469385  mse: 213.35362894056848\n",
      "\n",
      " new iteration\n",
      "beta L: 1.9591836734693877  mse: 210.66872708931257\n",
      "\n",
      " new iteration\n",
      "beta L: 2.1224489795918364  mse: 207.79237033403894\n",
      "\n",
      " new iteration\n",
      "beta L: 2.2857142857142856  mse: 204.07978545639344\n",
      "\n",
      " new iteration\n",
      "beta L: 2.4489795918367343  mse: 199.82358217019387\n",
      "\n",
      " new iteration\n",
      "beta L: 2.6122448979591835  mse: 194.4022531517946\n",
      "\n",
      " new iteration\n",
      "beta L: 2.7755102040816326  mse: 188.36803415575787\n",
      "\n",
      " new iteration\n",
      "beta L: 2.9387755102040813  mse: 179.62387332282722\n",
      "\n",
      " new iteration\n",
      "beta L: 3.1020408163265305  mse: 167.5293683951152\n",
      "\n",
      " new iteration\n",
      "beta L: 3.265306122448979  mse: 142.7805852402489\n",
      "\n",
      " new iteration\n",
      "beta L: 3.4285714285714284  mse: 123.0449508809192\n",
      "\n",
      " new iteration\n",
      "beta L: 3.591836734693877  mse: 122.23941141858262\n",
      "\n",
      " new iteration\n",
      "beta L: 3.7551020408163263  mse: 122.51187831422101\n",
      "\n",
      " new iteration\n",
      "beta L: 3.9183673469387754  mse: 139.4760348565955\n",
      "\n",
      " new iteration\n",
      "beta L: 4.081632653061225  mse: 197.13190892213825\n",
      "\n",
      " new iteration\n",
      "beta L: 4.244897959183673  mse: 352.07648165374684\n",
      "\n",
      " new iteration\n",
      "beta L: 4.408163265306122  mse: 560.7397581395348\n",
      "\n",
      " new iteration\n",
      "beta L: 4.571428571428571  mse: 585.7630139534884\n",
      "\n",
      " new iteration\n",
      "beta L: 4.73469387755102  mse: 661.9462697674419\n",
      "\n",
      " new iteration\n",
      "beta L: 4.897959183673469  mse: 661.9462697674419\n",
      "\n",
      " new iteration\n",
      "beta L: 5.061224489795918  mse: 713.0234790697675\n",
      "\n",
      " new iteration\n",
      "beta L: 5.224489795918367  mse: 912.480223255814\n",
      "\n",
      " new iteration\n",
      "beta L: 5.387755102040816  mse: 974.4560372093024\n",
      "\n",
      " new iteration\n",
      "beta L: 5.551020408163265  mse: 974.4560372093024\n",
      "\n",
      " new iteration\n",
      "beta L: 5.7142857142857135  mse: 986.1769674418606\n",
      "\n",
      " new iteration\n",
      "beta L: 5.877551020408163  mse: 992.0374325581396\n",
      "\n",
      " new iteration\n",
      "beta L: 6.040816326530612  mse: 992.0374325581396\n",
      "\n",
      " new iteration\n",
      "beta L: 6.204081632653061  mse: 993.293246511628\n",
      "\n",
      " new iteration\n",
      "beta L: 6.367346938775509  mse: 993.293246511628\n",
      "\n",
      " new iteration\n",
      "beta L: 6.530612244897958  mse: 993.293246511628\n",
      "\n",
      " new iteration\n",
      "beta L: 6.693877551020408  mse: 993.293246511628\n",
      "\n",
      " new iteration\n",
      "beta L: 6.857142857142857  mse: 993.293246511628\n",
      "\n",
      " new iteration\n",
      "beta L: 7.020408163265306  mse: 993.293246511628\n",
      "\n",
      " new iteration\n",
      "beta L: 7.183673469387754  mse: 993.293246511628\n",
      "\n",
      " new iteration\n",
      "beta L: 7.346938775510203  mse: 993.293246511628\n",
      "\n",
      " new iteration\n",
      "beta L: 7.5102040816326525  mse: 993.293246511628\n",
      "\n",
      " new iteration\n",
      "beta L: 7.673469387755102  mse: 993.293246511628\n",
      "\n",
      " new iteration\n",
      "beta L: 7.836734693877551  mse: 993.293246511628\n",
      "\n",
      " new iteration\n",
      "beta L: 8.0  mse: 993.293246511628\n"
     ]
    }
   ],
   "source": [
    "beta_Ls, mses = np.linspace(0.0, 8.0), list()\n",
    "\n",
    "for beta_L in beta_Ls:\n",
    "    mse = objective(beta_L)\n",
    "    mses.append(mse)\n"
   ]
  },
  {
   "cell_type": "code",
   "execution_count": 16,
   "metadata": {},
   "outputs": [
    {
     "data": {
      "image/png": "[encoded data removed]",
      "text/plain": [
       "<Figure size 705.6x403.2 with 1 Axes>"
      ]
     },
     "metadata": {
      "needs_background": "light"
     },
     "output_type": "display_data"
    }
   ],
   "source": [
    "f, ax = plt.subplots(1, 1, figsize=FIGSIZE)\n",
    "\n",
    "ax.set_xlabel('beta L')\n",
    "ax.set_ylabel('log(mse)')\n",
    "ax.set_title('Estimation of optimal Beta L value (DQN)')\n",
    "\n",
    "ax.plot(beta_Ls, np.log(mses))\n",
    "\n",
    "f.savefig('..//figures//dqn_model1_estimation_Beta_L.png')"
   ]
  },
  {
   "cell_type": "code",
   "execution_count": 23,
   "metadata": {},
   "outputs": [
    {
     "name": "stdout",
     "output_type": "stream",
     "text": [
      "min value of Beta L 3.59\n"
     ]
    }
   ],
   "source": [
    "print(f'min value of Beta L {beta_Ls[np.argmin(mses)]:.2f}')"
   ]
  },
  {
   "cell_type": "code",
   "execution_count": 26,
   "metadata": {},
   "outputs": [],
   "source": [
    "with open('..//data//dqn_estimation_beta_L_simple_model.pkl', 'wb') as f:\n",
    "    pickle.dump({\n",
    "        'beta_L': beta_Ls,\n",
    "        'log_mse': np.log(mses)\n",
    "    }, f)"
   ]
  },
  {
   "cell_type": "code",
   "execution_count": null,
   "metadata": {},
   "outputs": [],
   "source": []
  }
 ],
 "metadata": {
  "kernelspec": {
   "display_name": "Python 3 (master thesis)",
   "language": "python",
   "name": "masterthesis"
  },
  "language_info": {
   "codemirror_mode": {
    "name": "ipython",
    "version": 3
   },
   "file_extension": ".py",
   "mimetype": "text/x-python",
   "name": "python",
   "nbconvert_exporter": "python",
   "pygments_lexer": "ipython3",
   "version": "3.7.5"
  }
 },
 "nbformat": 4,
 "nbformat_minor": 4
}
