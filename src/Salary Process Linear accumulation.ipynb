{
 "cells": [
  {
   "cell_type": "code",
   "execution_count": 120,
   "metadata": {},
   "outputs": [],
   "source": [
    "import numpy as np\n",
    "import matplotlib.pyplot as plt\n",
    "import seaborn as sbn\n",
    "import pandas as pd\n",
    "from scipy.optimize import minimize\n",
    "import pickle\n",
    "import scipy.stats"
   ]
  },
  {
   "cell_type": "code",
   "execution_count": null,
   "metadata": {},
   "outputs": [],
   "source": []
  },
  {
   "cell_type": "code",
   "execution_count": 9,
   "metadata": {},
   "outputs": [],
   "source": [
    "with open('..//data//women_hours_empirical', 'rb') as f:\n",
    "    women_hours = pickle.load(f)\n",
    "    \n",
    "with open('..//data//women_salary_mean.pkl', 'rb') as f:\n",
    "    women_salary = pickle.load(f)"
   ]
  },
  {
   "cell_type": "code",
   "execution_count": 108,
   "metadata": {},
   "outputs": [],
   "source": [
    "class SalaryProcess:\n",
    "    \n",
    "    S_min = 120\n",
    "    PARAMETERS = {\n",
    "        'sigma_epsilon'  : 3,\n",
    "        'alpha' :1.2,\n",
    "        'omega' : 0.8,\n",
    "        'eta_G'  : 1.2,\n",
    "        'eta_Z'  : 1.2,\n",
    "        'delta'  : 0.9,\n",
    "    }\n",
    "    \n",
    "    def __init__(self, Z=1, G=0, Q=18, sex='women', parameters = PARAMETERS):\n",
    "        self.Z = Z\n",
    "        self.G = G\n",
    "        self.Q = Q\n",
    "        self.sex = sex\n",
    "        self.parameters = parameters\n",
    "        \n",
    "    def reset(self):\n",
    "        self.Q = 18\n",
    "        self.G = 0\n",
    "        self.Z = 0\n",
    "        \n",
    "    def step(self):\n",
    "        \n",
    "        if self.Q == 65:\n",
    "            self.reset()\n",
    "        else:\n",
    "            self.Q = self.Q + 1\n",
    "            self.G = self.parameters['delta'] * self.G +  self.parameters['omega'] * self.H()\n",
    "            self.Z = self.Z + np.random.normal(0, self.parameters['sigma_epsilon'])\n",
    "            \n",
    "        S = self.calc_salary()\n",
    "        return (S, self.Z, self.G, self.Q)\n",
    "            \n",
    "    def H(self):\n",
    "        return women_hours[self.Q]\n",
    "        \n",
    "    def calc_salary(self):\n",
    "        \n",
    "        \n",
    "        S_tilde = self.parameters['eta'] + self.G + self.Z\n",
    "        S = np.max([S_tilde, self.S_min])\n",
    "        if pd.isnull(S):\n",
    "            print(S_tilde, S)\n",
    "        return S"
   ]
  },
  {
   "cell_type": "code",
   "execution_count": 109,
   "metadata": {},
   "outputs": [],
   "source": [
    "def calc_mse_women(y_pred):\n",
    "    y_true = women_salary[18:66]\n",
    "    y_pred = np.array(y_pred)\n",
    "    return np.mean((y_true - y_pred)**2)\n",
    "\n",
    "RESULTS = list()\n",
    "\n",
    "def obj(x):\n",
    "    \n",
    "    parameters = {\n",
    "        'omega': x[0],\n",
    "        'delta'  : x[1],\n",
    "        'eta': x[2]\n",
    "    }\n",
    "    \n",
    "    parameters['sigma_epsilon'] =  3\n",
    "    parameters['alpha'] = 1.2,\n",
    "    \n",
    "    sp = SalaryProcess(parameters = parameters)\n",
    "    results = list()\n",
    "\n",
    "    for _ in range((65-18) * 500):\n",
    "    \n",
    "        res = sp.step()\n",
    "        results.append(res)\n",
    "        \n",
    "    df = pd.DataFrame(results, columns = ['S', 'log Z', 'G', 'Q'])\n",
    "    y_pred = np.array(df.groupby('Q').mean()['S'])\n",
    "    mse = calc_mse_women(y_pred)\n",
    "    parameters['mse'] = mse\n",
    "    RESULTS.append(parameters)\n",
    "    print(int(mse), parameters)\n",
    "    \n",
    "    return mse"
   ]
  },
  {
   "cell_type": "code",
   "execution_count": 110,
   "metadata": {},
   "outputs": [],
   "source": [
    "df = pd.DataFrame(results, columns = ['S', 'log Z', 'G', 'Q'])\n",
    "y_pred = np.array(df.groupby('Q').mean()['S'])"
   ]
  },
  {
   "cell_type": "code",
   "execution_count": 111,
   "metadata": {},
   "outputs": [
    {
     "name": "stdout",
     "output_type": "stream",
     "text": [
      "387 {'omega': 0.4, 'delta': 0.9, 'eta': 120.0, 'sigma_epsilon': 3, 'alpha': (1.2,), 'mse': 387.9154474212132}\n",
      "378 {'omega': 0.4, 'delta': 0.9, 'eta': 120.0, 'sigma_epsilon': 3, 'alpha': (1.2,), 'mse': 378.18508344665526}\n",
      "341 {'omega': 0.4000000149011612, 'delta': 0.9, 'eta': 120.0, 'sigma_epsilon': 3, 'alpha': (1.2,), 'mse': 341.37848116201775}\n",
      "346 {'omega': 0.4, 'delta': 0.9000000149011612, 'eta': 120.0, 'sigma_epsilon': 3, 'alpha': (1.2,), 'mse': 346.6780868917023}\n",
      "343 {'omega': 0.4, 'delta': 0.9, 'eta': 120.00000001490116, 'sigma_epsilon': 3, 'alpha': (1.2,), 'mse': 343.49202210619643}\n"
     ]
    },
    {
     "name": "stderr",
     "output_type": "stream",
     "text": [
      "/Users/jeppejohansen/.local/share/virtualenvs/speciale-wQK9LG7Y/lib/python3.7/site-packages/ipykernel_launcher.py:31: RuntimeWarning: overflow encountered in double_scalars\n",
      "/Users/jeppejohansen/.local/share/virtualenvs/speciale-wQK9LG7Y/lib/python3.7/site-packages/ipykernel_launcher.py:4: RuntimeWarning: overflow encountered in square\n",
      "  after removing the cwd from sys.path.\n"
     ]
    },
    {
     "ename": "OverflowError",
     "evalue": "cannot convert float infinity to integer",
     "output_type": "error",
     "traceback": [
      "\u001b[0;31m---------------------------------------------------------------------------\u001b[0m",
      "\u001b[0;31mOverflowError\u001b[0m                             Traceback (most recent call last)",
      "\u001b[0;32m<ipython-input-111-dfeedd03b3c1>\u001b[0m in \u001b[0;36m<module>\u001b[0;34m\u001b[0m\n\u001b[1;32m      7\u001b[0m ]\n\u001b[1;32m      8\u001b[0m \u001b[0mx0\u001b[0m \u001b[0;34m=\u001b[0m \u001b[0;34m(\u001b[0m\u001b[0;36m0.4\u001b[0m\u001b[0;34m,\u001b[0m \u001b[0;36m0.9\u001b[0m\u001b[0;34m,\u001b[0m \u001b[0;36m120\u001b[0m\u001b[0;34m)\u001b[0m\u001b[0;34m\u001b[0m\u001b[0;34m\u001b[0m\u001b[0m\n\u001b[0;32m----> 9\u001b[0;31m \u001b[0msol\u001b[0m \u001b[0;34m=\u001b[0m \u001b[0mminimize\u001b[0m\u001b[0;34m(\u001b[0m\u001b[0mobj\u001b[0m\u001b[0;34m,\u001b[0m \u001b[0mx0\u001b[0m\u001b[0;34m,\u001b[0m \u001b[0mbounds\u001b[0m\u001b[0;34m=\u001b[0m\u001b[0mbounds\u001b[0m\u001b[0;34m,\u001b[0m \u001b[0mmethod\u001b[0m\u001b[0;34m=\u001b[0m\u001b[0;34m'SLSQP'\u001b[0m\u001b[0;34m)\u001b[0m\u001b[0;34m\u001b[0m\u001b[0;34m\u001b[0m\u001b[0m\n\u001b[0m",
      "\u001b[0;32m~/.local/share/virtualenvs/speciale-wQK9LG7Y/lib/python3.7/site-packages/scipy/optimize/_minimize.py\u001b[0m in \u001b[0;36mminimize\u001b[0;34m(fun, x0, args, method, jac, hess, hessp, bounds, constraints, tol, callback, options)\u001b[0m\n\u001b[1;32m    606\u001b[0m     \u001b[0;32melif\u001b[0m \u001b[0mmeth\u001b[0m \u001b[0;34m==\u001b[0m \u001b[0;34m'slsqp'\u001b[0m\u001b[0;34m:\u001b[0m\u001b[0;34m\u001b[0m\u001b[0;34m\u001b[0m\u001b[0m\n\u001b[1;32m    607\u001b[0m         return _minimize_slsqp(fun, x0, args, jac, bounds,\n\u001b[0;32m--> 608\u001b[0;31m                                constraints, callback=callback, **options)\n\u001b[0m\u001b[1;32m    609\u001b[0m     \u001b[0;32melif\u001b[0m \u001b[0mmeth\u001b[0m \u001b[0;34m==\u001b[0m \u001b[0;34m'trust-constr'\u001b[0m\u001b[0;34m:\u001b[0m\u001b[0;34m\u001b[0m\u001b[0;34m\u001b[0m\u001b[0m\n\u001b[1;32m    610\u001b[0m         return _minimize_trustregion_constr(fun, x0, args, jac, hess, hessp,\n",
      "\u001b[0;32m~/.local/share/virtualenvs/speciale-wQK9LG7Y/lib/python3.7/site-packages/scipy/optimize/slsqp.py\u001b[0m in \u001b[0;36m_minimize_slsqp\u001b[0;34m(func, x0, args, jac, bounds, constraints, maxiter, ftol, iprint, disp, eps, callback, **unknown_options)\u001b[0m\n\u001b[1;32m    397\u001b[0m \u001b[0;34m\u001b[0m\u001b[0m\n\u001b[1;32m    398\u001b[0m             \u001b[0;31m# Compute objective function\u001b[0m\u001b[0;34m\u001b[0m\u001b[0;34m\u001b[0m\u001b[0;34m\u001b[0m\u001b[0m\n\u001b[0;32m--> 399\u001b[0;31m             \u001b[0mfx\u001b[0m \u001b[0;34m=\u001b[0m \u001b[0mfunc\u001b[0m\u001b[0;34m(\u001b[0m\u001b[0mx\u001b[0m\u001b[0;34m)\u001b[0m\u001b[0;34m\u001b[0m\u001b[0;34m\u001b[0m\u001b[0m\n\u001b[0m\u001b[1;32m    400\u001b[0m             \u001b[0;32mtry\u001b[0m\u001b[0;34m:\u001b[0m\u001b[0;34m\u001b[0m\u001b[0;34m\u001b[0m\u001b[0m\n\u001b[1;32m    401\u001b[0m                 \u001b[0mfx\u001b[0m \u001b[0;34m=\u001b[0m \u001b[0mfloat\u001b[0m\u001b[0;34m(\u001b[0m\u001b[0mnp\u001b[0m\u001b[0;34m.\u001b[0m\u001b[0masarray\u001b[0m\u001b[0;34m(\u001b[0m\u001b[0mfx\u001b[0m\u001b[0;34m)\u001b[0m\u001b[0;34m)\u001b[0m\u001b[0;34m\u001b[0m\u001b[0;34m\u001b[0m\u001b[0m\n",
      "\u001b[0;32m~/.local/share/virtualenvs/speciale-wQK9LG7Y/lib/python3.7/site-packages/scipy/optimize/optimize.py\u001b[0m in \u001b[0;36mfunction_wrapper\u001b[0;34m(*wrapper_args)\u001b[0m\n\u001b[1;32m    325\u001b[0m     \u001b[0;32mdef\u001b[0m \u001b[0mfunction_wrapper\u001b[0m\u001b[0;34m(\u001b[0m\u001b[0;34m*\u001b[0m\u001b[0mwrapper_args\u001b[0m\u001b[0;34m)\u001b[0m\u001b[0;34m:\u001b[0m\u001b[0;34m\u001b[0m\u001b[0;34m\u001b[0m\u001b[0m\n\u001b[1;32m    326\u001b[0m         \u001b[0mncalls\u001b[0m\u001b[0;34m[\u001b[0m\u001b[0;36m0\u001b[0m\u001b[0;34m]\u001b[0m \u001b[0;34m+=\u001b[0m \u001b[0;36m1\u001b[0m\u001b[0;34m\u001b[0m\u001b[0;34m\u001b[0m\u001b[0m\n\u001b[0;32m--> 327\u001b[0;31m         \u001b[0;32mreturn\u001b[0m \u001b[0mfunction\u001b[0m\u001b[0;34m(\u001b[0m\u001b[0;34m*\u001b[0m\u001b[0;34m(\u001b[0m\u001b[0mwrapper_args\u001b[0m \u001b[0;34m+\u001b[0m \u001b[0margs\u001b[0m\u001b[0;34m)\u001b[0m\u001b[0;34m)\u001b[0m\u001b[0;34m\u001b[0m\u001b[0;34m\u001b[0m\u001b[0m\n\u001b[0m\u001b[1;32m    328\u001b[0m \u001b[0;34m\u001b[0m\u001b[0m\n\u001b[1;32m    329\u001b[0m     \u001b[0;32mreturn\u001b[0m \u001b[0mncalls\u001b[0m\u001b[0;34m,\u001b[0m \u001b[0mfunction_wrapper\u001b[0m\u001b[0;34m\u001b[0m\u001b[0;34m\u001b[0m\u001b[0m\n",
      "\u001b[0;32m<ipython-input-109-c5af2009527f>\u001b[0m in \u001b[0;36mobj\u001b[0;34m(x)\u001b[0m\n\u001b[1;32m     30\u001b[0m     \u001b[0mparameters\u001b[0m\u001b[0;34m[\u001b[0m\u001b[0;34m'mse'\u001b[0m\u001b[0;34m]\u001b[0m \u001b[0;34m=\u001b[0m \u001b[0mmse\u001b[0m\u001b[0;34m\u001b[0m\u001b[0;34m\u001b[0m\u001b[0m\n\u001b[1;32m     31\u001b[0m     \u001b[0mRESULTS\u001b[0m\u001b[0;34m.\u001b[0m\u001b[0mappend\u001b[0m\u001b[0;34m(\u001b[0m\u001b[0mparameters\u001b[0m\u001b[0;34m)\u001b[0m\u001b[0;34m\u001b[0m\u001b[0;34m\u001b[0m\u001b[0m\n\u001b[0;32m---> 32\u001b[0;31m     \u001b[0mprint\u001b[0m\u001b[0;34m(\u001b[0m\u001b[0mint\u001b[0m\u001b[0;34m(\u001b[0m\u001b[0mmse\u001b[0m\u001b[0;34m)\u001b[0m\u001b[0;34m,\u001b[0m \u001b[0mparameters\u001b[0m\u001b[0;34m)\u001b[0m\u001b[0;34m\u001b[0m\u001b[0;34m\u001b[0m\u001b[0m\n\u001b[0m\u001b[1;32m     33\u001b[0m \u001b[0;34m\u001b[0m\u001b[0m\n\u001b[1;32m     34\u001b[0m     \u001b[0;32mreturn\u001b[0m \u001b[0mmse\u001b[0m\u001b[0;34m\u001b[0m\u001b[0;34m\u001b[0m\u001b[0m\n",
      "\u001b[0;31mOverflowError\u001b[0m: cannot convert float infinity to integer"
     ]
    }
   ],
   "source": [
    "parameters = list\n",
    "\n",
    "bounds = [\n",
    "    (0.05, None),\n",
    "    (0.05, None),\n",
    "    (0, None),\n",
    "]\n",
    "x0 = (0.4, 0.9, 120)\n",
    "sol = minimize(obj, x0, bounds=bounds, method='SLSQP')"
   ]
  },
  {
   "cell_type": "code",
   "execution_count": 112,
   "metadata": {},
   "outputs": [
    {
     "name": "stdout",
     "output_type": "stream",
     "text": [
      "     fun: 622.8440767362737\n",
      "     jac: array([-4.90019898e+12,  2.88399273e+11, -5.86675965e+12])\n",
      " message: 'Inequality constraints incompatible'\n",
      "    nfev: 5\n",
      "     nit: 1\n",
      "    njev: 1\n",
      "  status: 4\n",
      " success: False\n",
      "       x: array([  0.4,   0.9, 120. ])\n"
     ]
    }
   ],
   "source": [
    "print(sol)\n",
    "#sol.x\n",
    "RESULTS_DF = pd.DataFrame(RESULTS) "
   ]
  },
  {
   "cell_type": "code",
   "execution_count": 113,
   "metadata": {},
   "outputs": [
    {
     "data": {
      "text/html": [
       "<div>\n",
       "<style scoped>\n",
       "    .dataframe tbody tr th:only-of-type {\n",
       "        vertical-align: middle;\n",
       "    }\n",
       "\n",
       "    .dataframe tbody tr th {\n",
       "        vertical-align: top;\n",
       "    }\n",
       "\n",
       "    .dataframe thead th {\n",
       "        text-align: right;\n",
       "    }\n",
       "</style>\n",
       "<table border=\"1\" class=\"dataframe\">\n",
       "  <thead>\n",
       "    <tr style=\"text-align: right;\">\n",
       "      <th></th>\n",
       "      <th>omega</th>\n",
       "      <th>delta</th>\n",
       "      <th>eta</th>\n",
       "      <th>sigma_epsilon</th>\n",
       "      <th>alpha</th>\n",
       "      <th>mse</th>\n",
       "    </tr>\n",
       "  </thead>\n",
       "  <tbody>\n",
       "    <tr>\n",
       "      <th>2</th>\n",
       "      <td>0.4</td>\n",
       "      <td>0.9</td>\n",
       "      <td>120.0</td>\n",
       "      <td>3</td>\n",
       "      <td>(1.2,)</td>\n",
       "      <td>341.378481</td>\n",
       "    </tr>\n",
       "  </tbody>\n",
       "</table>\n",
       "</div>"
      ],
      "text/plain": [
       "   omega  delta    eta  sigma_epsilon   alpha         mse\n",
       "2    0.4    0.9  120.0              3  (1.2,)  341.378481"
      ]
     },
     "execution_count": 113,
     "metadata": {},
     "output_type": "execute_result"
    }
   ],
   "source": [
    "RESULTS_DF.loc[RESULTS_DF['mse'].min() == RESULTS_DF['mse']]"
   ]
  },
  {
   "cell_type": "code",
   "execution_count": 114,
   "metadata": {},
   "outputs": [
    {
     "name": "stdout",
     "output_type": "stream",
     "text": [
      "{'omega': 0.4000000149011612, 'delta': 0.9, 'eta': 120.0, 'sigma_epsilon': 3, 'alpha': (1.2,), 'mse': 341.37848116201775}\n"
     ]
    },
    {
     "data": {
      "text/plain": [
       "<matplotlib.legend.Legend at 0x11e485f90>"
      ]
     },
     "execution_count": 114,
     "metadata": {},
     "output_type": "execute_result"
    },
    {
     "data": {
      "image/png": "[encoded data removed]",
      "text/plain": [
       "<Figure size 432x288 with 1 Axes>"
      ]
     },
     "metadata": {
      "needs_background": "light"
     },
     "output_type": "display_data"
    }
   ],
   "source": [
    "optimal_parameters = RESULTS_DF.loc[RESULTS_DF['mse'].min() == RESULTS_DF['mse']].to_dict(orient='rows')[0]\n",
    "#sol = [0.39159816, 1.2       , 1.2       , 2.29062806, 0.9 ]\n",
    "print(optimal_parameters)\n",
    "\n",
    "sp = SalaryProcess(parameters = optimal_parameters)\n",
    "results = list()\n",
    "\n",
    "for _ in range((65-18) * 500):\n",
    "\n",
    "    res = sp.step()\n",
    "    results.append(res)\n",
    "\n",
    "df = pd.DataFrame(results, columns = ['S', 'log Z', 'G', 'Q'])\n",
    "y_pred = np.array(df.groupby('Q').mean()['S'])\n",
    "y_std = np.array(df.groupby('Q').std()['S'])\n",
    "\n",
    "\n",
    "plt.plot(range(18,66),y_pred, label='predicted')\n",
    "plt.plot(range(18,66),y_pred - 1.96 * y_std, label='upper_bound')\n",
    "plt.plot(range(18,66),y_pred + 1.96 * y_std, label='lower_bound')\n",
    "\n",
    "plt.plot(range(18,66),women_salary[18:66], label='true')\n",
    "plt.legend()"
   ]
  },
  {
   "cell_type": "code",
   "execution_count": 115,
   "metadata": {},
   "outputs": [
    {
     "data": {
      "text/html": [
       "<div>\n",
       "<style scoped>\n",
       "    .dataframe tbody tr th:only-of-type {\n",
       "        vertical-align: middle;\n",
       "    }\n",
       "\n",
       "    .dataframe tbody tr th {\n",
       "        vertical-align: top;\n",
       "    }\n",
       "\n",
       "    .dataframe thead th {\n",
       "        text-align: right;\n",
       "    }\n",
       "</style>\n",
       "<table border=\"1\" class=\"dataframe\">\n",
       "  <thead>\n",
       "    <tr style=\"text-align: right;\">\n",
       "      <th></th>\n",
       "      <th>S</th>\n",
       "      <th>log Z</th>\n",
       "      <th>G</th>\n",
       "      <th>Q</th>\n",
       "    </tr>\n",
       "  </thead>\n",
       "  <tbody>\n",
       "    <tr>\n",
       "      <th>47</th>\n",
       "      <td>120.0</td>\n",
       "      <td>0.0</td>\n",
       "      <td>0.0</td>\n",
       "      <td>18</td>\n",
       "    </tr>\n",
       "    <tr>\n",
       "      <th>95</th>\n",
       "      <td>120.0</td>\n",
       "      <td>0.0</td>\n",
       "      <td>0.0</td>\n",
       "      <td>18</td>\n",
       "    </tr>\n",
       "    <tr>\n",
       "      <th>143</th>\n",
       "      <td>120.0</td>\n",
       "      <td>0.0</td>\n",
       "      <td>0.0</td>\n",
       "      <td>18</td>\n",
       "    </tr>\n",
       "    <tr>\n",
       "      <th>191</th>\n",
       "      <td>120.0</td>\n",
       "      <td>0.0</td>\n",
       "      <td>0.0</td>\n",
       "      <td>18</td>\n",
       "    </tr>\n",
       "    <tr>\n",
       "      <th>239</th>\n",
       "      <td>120.0</td>\n",
       "      <td>0.0</td>\n",
       "      <td>0.0</td>\n",
       "      <td>18</td>\n",
       "    </tr>\n",
       "    <tr>\n",
       "      <th>...</th>\n",
       "      <td>...</td>\n",
       "      <td>...</td>\n",
       "      <td>...</td>\n",
       "      <td>...</td>\n",
       "    </tr>\n",
       "    <tr>\n",
       "      <th>23279</th>\n",
       "      <td>120.0</td>\n",
       "      <td>0.0</td>\n",
       "      <td>0.0</td>\n",
       "      <td>18</td>\n",
       "    </tr>\n",
       "    <tr>\n",
       "      <th>23327</th>\n",
       "      <td>120.0</td>\n",
       "      <td>0.0</td>\n",
       "      <td>0.0</td>\n",
       "      <td>18</td>\n",
       "    </tr>\n",
       "    <tr>\n",
       "      <th>23375</th>\n",
       "      <td>120.0</td>\n",
       "      <td>0.0</td>\n",
       "      <td>0.0</td>\n",
       "      <td>18</td>\n",
       "    </tr>\n",
       "    <tr>\n",
       "      <th>23423</th>\n",
       "      <td>120.0</td>\n",
       "      <td>0.0</td>\n",
       "      <td>0.0</td>\n",
       "      <td>18</td>\n",
       "    </tr>\n",
       "    <tr>\n",
       "      <th>23471</th>\n",
       "      <td>120.0</td>\n",
       "      <td>0.0</td>\n",
       "      <td>0.0</td>\n",
       "      <td>18</td>\n",
       "    </tr>\n",
       "  </tbody>\n",
       "</table>\n",
       "<p>489 rows × 4 columns</p>\n",
       "</div>"
      ],
      "text/plain": [
       "           S  log Z    G   Q\n",
       "47     120.0    0.0  0.0  18\n",
       "95     120.0    0.0  0.0  18\n",
       "143    120.0    0.0  0.0  18\n",
       "191    120.0    0.0  0.0  18\n",
       "239    120.0    0.0  0.0  18\n",
       "...      ...    ...  ...  ..\n",
       "23279  120.0    0.0  0.0  18\n",
       "23327  120.0    0.0  0.0  18\n",
       "23375  120.0    0.0  0.0  18\n",
       "23423  120.0    0.0  0.0  18\n",
       "23471  120.0    0.0  0.0  18\n",
       "\n",
       "[489 rows x 4 columns]"
      ]
     },
     "execution_count": 115,
     "metadata": {},
     "output_type": "execute_result"
    }
   ],
   "source": [
    "df.loc[df['Q'] == 18]"
   ]
  },
  {
   "cell_type": "code",
   "execution_count": 102,
   "metadata": {},
   "outputs": [
    {
     "ename": "SyntaxError",
     "evalue": "invalid syntax (<ipython-input-102-cad28b4f5267>, line 1)",
     "output_type": "error",
     "traceback": [
      "\u001b[0;36m  File \u001b[0;32m\"<ipython-input-102-cad28b4f5267>\"\u001b[0;36m, line \u001b[0;32m1\u001b[0m\n\u001b[0;31m    np.std(pd.[S])\u001b[0m\n\u001b[0m              ^\u001b[0m\n\u001b[0;31mSyntaxError\u001b[0m\u001b[0;31m:\u001b[0m invalid syntax\n"
     ]
    }
   ],
   "source": []
  },
  {
   "cell_type": "markdown",
   "metadata": {},
   "source": [
    "param_candidates = list()\n",
    "for _ in range(300):\n",
    "    candidate = [\n",
    "        np.random.uniform(0.1, 1),\n",
    "        np.random.uniform(0.23, 3.0),\n",
    "        np.random.uniform(0.5, 1.2),\n",
    "        np.random.uniform(0.5, 1.2),\n",
    "        np.random.uniform(0.8, 0.9)\n",
    "    ]\n",
    "    param_candidates.append(candidate)\n",
    "\n",
    "candidates_results = list()\n",
    "for c in param_candidates:\n",
    "    mse = obj(c)\n",
    "    print(mse)\n",
    "    c.append(mse)\n",
    "    candidates_results.append(c)"
   ]
  },
  {
   "cell_type": "markdown",
   "metadata": {},
   "source": [
    "candidates_df = pd.DataFrame(candidates_results, columns = ['sigma_epsilon', 'alpha', 'eta_G', 'eta_Z', 'delta', 'mse'])\n",
    "\n"
   ]
  },
  {
   "cell_type": "markdown",
   "metadata": {},
   "source": [
    "candidates_df.loc[candidates_df['mse'] < 900]"
   ]
  },
  {
   "cell_type": "markdown",
   "metadata": {},
   "source": [
    "best_params = candidates_df.loc[min(candidates_df['mse']) == candidates_df['mse']]\n",
    "print(best_params)\n",
    "optimal_parameters = best_params.to_dict() \n",
    "optimal_parameters.pop('mse')\n",
    "optimal_parameters"
   ]
  },
  {
   "cell_type": "markdown",
   "metadata": {},
   "source": [
    "\n",
    "#sol = [0.39159816, 1.2       , 1.2       , 2.29062806, 0.9 ]\n",
    "optimal_parameters = {\n",
    "    'sigma_epsilon' : sol.x[0],\n",
    "    'alpha' : sol.x[1],\n",
    "    'eta_G'  : sol.x[2],\n",
    "    'eta_Z'  : sol.x[3],\n",
    "    'delta'  : sol.x[4],\n",
    "}\n",
    "\n",
    "sp = SalaryProcess(parameters = optimal_parameters)\n",
    "results = list()\n",
    "\n",
    "for _ in range((70-18) * 500):\n",
    "\n",
    "    res = sp.step()\n",
    "    results.append(res)\n",
    "\n",
    "df = pd.DataFrame(results, columns = ['S', 'log Z', 'G', 'Q'])\n",
    "y_pred = np.array(df.groupby('Q').mean()['S'])\n",
    "\n",
    "plt.plot(range(18,71),y_pred, label='predicted')\n",
    "plt.plot(women_salary, label='true')\n",
    "plt.legend()"
   ]
  },
  {
   "cell_type": "markdown",
   "metadata": {},
   "source": [
    "plt.plot(range(18,71),y_pred, label='predicted')\n",
    "plt.plot(women_salary, label='true')\n",
    "plt.legend()"
   ]
  },
  {
   "cell_type": "code",
   "execution_count": 119,
   "metadata": {},
   "outputs": [
    {
     "data": {
      "text/plain": [
       "42.376878166064586"
      ]
     },
     "execution_count": 119,
     "metadata": {},
     "output_type": "execute_result"
    },
    {
     "data": {
      "image/png": "[encoded data removed]",
      "text/plain": [
       "<Figure size 432x288 with 1 Axes>"
      ]
     },
     "metadata": {
      "needs_background": "light"
     },
     "output_type": "display_data"
    }
   ],
   "source": [
    "sbn.distplot(df['S'].dropna())\n",
    "df['S'].isnull().sum()\n",
    "df['is_na'] = df['S'].isnull()\n",
    "np.mean(df['S'])\n",
    "np.std(df['S'])\n",
    "{\n",
    "    'mean': np.mean(df['S']),\n",
    "    'std': np.mean(df['S'])\n",
    "    'skew': scipy.stats.skew(df['S']),\n",
    "    'kurtosis': scipy.stats.kurtosis(df['S']),"
   ]
  },
  {
   "cell_type": "code",
   "execution_count": 277,
   "metadata": {},
   "outputs": [],
   "source": [
    "S = 2.45 +  0.92 * -1.653578 + 0.84 * np.log(8.608565+1)"
   ]
  },
  {
   "cell_type": "code",
   "execution_count": 279,
   "metadata": {},
   "outputs": [
    {
     "data": {
      "text/plain": [
       "16.934252502677552"
      ]
     },
     "execution_count": 279,
     "metadata": {},
     "output_type": "execute_result"
    }
   ],
   "source": [
    "np.exp(S)"
   ]
  },
  {
   "cell_type": "code",
   "execution_count": 9,
   "metadata": {},
   "outputs": [
    {
     "data": {
      "text/plain": [
       "[<matplotlib.lines.Line2D at 0x120bef950>]"
      ]
     },
     "execution_count": 9,
     "metadata": {},
     "output_type": "execute_result"
    },
    {
     "data": {
      "image/png": "[encoded data removed]",
      "text/plain": [
       "<Figure size 432x288 with 1 Axes>"
      ]
     },
     "metadata": {
      "needs_background": "light"
     },
     "output_type": "display_data"
    }
   ],
   "source": [
    "plt.plot(women_hours)"
   ]
  },
  {
   "cell_type": "code",
   "execution_count": 93,
   "metadata": {},
   "outputs": [
    {
     "data": {
      "text/plain": [
       "[<matplotlib.lines.Line2D at 0x121c92210>]"
      ]
     },
     "execution_count": 93,
     "metadata": {},
     "output_type": "execute_result"
    },
    {
     "data": {
      "image/png": "[encoded data removed]",
      "text/plain": [
       "<Figure size 432x288 with 1 Axes>"
      ]
     },
     "metadata": {
      "needs_background": "light"
     },
     "output_type": "display_data"
    }
   ],
   "source": [
    "plt.plot(women_salary)"
   ]
  },
  {
   "cell_type": "code",
   "execution_count": 118,
   "metadata": {},
   "outputs": [
    {
     "data": {
      "text/plain": [
       "7662.364466233265"
      ]
     },
     "execution_count": 118,
     "metadata": {},
     "output_type": "execute_result"
    }
   ],
   "source": []
  },
  {
   "cell_type": "code",
   "execution_count": 282,
   "metadata": {},
   "outputs": [
    {
     "ename": "TypeError",
     "evalue": "ufunc 'isnan' not supported for the input types, and the inputs could not be safely coerced to any supported types according to the casting rule ''safe''",
     "output_type": "error",
     "traceback": [
      "\u001b[0;31m---------------------------------------------------------------------------\u001b[0m",
      "\u001b[0;31mTypeError\u001b[0m                                 Traceback (most recent call last)",
      "\u001b[0;32m<ipython-input-282-f53008f0bd14>\u001b[0m in \u001b[0;36m<module>\u001b[0;34m\u001b[0m\n\u001b[0;32m----> 1\u001b[0;31m \u001b[0mnp\u001b[0m\u001b[0;34m.\u001b[0m\u001b[0misnan\u001b[0m\u001b[0;34m(\u001b[0m\u001b[0;32mNone\u001b[0m\u001b[0;34m)\u001b[0m\u001b[0;34m\u001b[0m\u001b[0;34m\u001b[0m\u001b[0m\n\u001b[0m",
      "\u001b[0;31mTypeError\u001b[0m: ufunc 'isnan' not supported for the input types, and the inputs could not be safely coerced to any supported types according to the casting rule ''safe''"
     ]
    }
   ],
   "source": [
    "np.isnan(None)"
   ]
  },
  {
   "cell_type": "code",
   "execution_count": null,
   "metadata": {},
   "outputs": [],
   "source": []
  }
 ],
 "metadata": {
  "kernelspec": {
   "display_name": "Python 3 (master thesis)",
   "language": "python",
   "name": "masterthesis"
  },
  "language_info": {
   "codemirror_mode": {
    "name": "ipython",
    "version": 3
   },
   "file_extension": ".py",
   "mimetype": "text/x-python",
   "name": "python",
   "nbconvert_exporter": "python",
   "pygments_lexer": "ipython3",
   "version": "3.7.5"
  }
 },
 "nbformat": 4,
 "nbformat_minor": 2
}
